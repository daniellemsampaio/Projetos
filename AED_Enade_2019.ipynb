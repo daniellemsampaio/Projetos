{
  "nbformat": 4,
  "nbformat_minor": 0,
  "metadata": {
    "colab": {
      "name": "AED-Enade_2019.ipynb",
      "provenance": [],
      "collapsed_sections": [],
      "authorship_tag": "ABX9TyMjyXfpUDe7HGLgzAW4KQFW",
      "include_colab_link": true
    },
    "kernelspec": {
      "name": "python3",
      "display_name": "Python 3"
    },
    "language_info": {
      "name": "python"
    }
  },
  "cells": [
    {
      "cell_type": "markdown",
      "metadata": {
        "id": "view-in-github",
        "colab_type": "text"
      },
      "source": [
        "<a href=\"https://colab.research.google.com/github/daniellemsampaio/Projetos/blob/main/AED_Enade_2019.ipynb\" target=\"_parent\"><img src=\"https://colab.research.google.com/assets/colab-badge.svg\" alt=\"Open In Colab\"/></a>"
      ]
    },
    {
      "cell_type": "markdown",
      "metadata": {
        "id": "DppGXqgmsyVN"
      },
      "source": [
        "## **Análise Exploratória de Dados - ENEM 2019**"
      ]
    },
    {
      "cell_type": "markdown",
      "metadata": {
        "id": "ypTR_rFmtKa-"
      },
      "source": [
        "*Processamento dos Dados*"
      ]
    },
    {
      "cell_type": "code",
      "metadata": {
        "id": "_lhNjcNzs9O7"
      },
      "source": [
        "# Importar as Bibliotecas\n",
        "import pandas as pd\n",
        "import numpy as np\n",
        "import matplotlib.pyplot as plt\n",
        "import seaborn as sns\n",
        "plt.style.use('seaborn-pastel')"
      ],
      "execution_count": 19,
      "outputs": []
    },
    {
      "cell_type": "code",
      "metadata": {
        "colab": {
          "base_uri": "https://localhost:8080/",
          "height": 270
        },
        "id": "o3Vf-9wKtU_o",
        "outputId": "8808e9b8-ec2d-446b-f030-05fa0c4b56d0"
      },
      "source": [
        "# Carregar os dados e visualização prévia\n",
        "data = pd.read_csv('microdados_enade_2019.csv', sep=';',low_memory=False)\n",
        "print('O dataset possui',len(data),'registros organizados em',len(data.columns),'colunas.')\n",
        "data.head()"
      ],
      "execution_count": 20,
      "outputs": [
        {
          "output_type": "stream",
          "name": "stdout",
          "text": [
            "O dataset possui 433930 registros organizados em 137 colunas.\n"
          ]
        },
        {
          "output_type": "execute_result",
          "data": {
            "text/html": [
              "<div>\n",
              "<style scoped>\n",
              "    .dataframe tbody tr th:only-of-type {\n",
              "        vertical-align: middle;\n",
              "    }\n",
              "\n",
              "    .dataframe tbody tr th {\n",
              "        vertical-align: top;\n",
              "    }\n",
              "\n",
              "    .dataframe thead th {\n",
              "        text-align: right;\n",
              "    }\n",
              "</style>\n",
              "<table border=\"1\" class=\"dataframe\">\n",
              "  <thead>\n",
              "    <tr style=\"text-align: right;\">\n",
              "      <th></th>\n",
              "      <th>NU_ANO</th>\n",
              "      <th>CO_IES</th>\n",
              "      <th>CO_CATEGAD</th>\n",
              "      <th>CO_ORGACAD</th>\n",
              "      <th>CO_GRUPO</th>\n",
              "      <th>CO_CURSO</th>\n",
              "      <th>CO_MODALIDADE</th>\n",
              "      <th>CO_MUNIC_CURSO</th>\n",
              "      <th>CO_UF_CURSO</th>\n",
              "      <th>CO_REGIAO_CURSO</th>\n",
              "      <th>NU_IDADE</th>\n",
              "      <th>TP_SEXO</th>\n",
              "      <th>ANO_FIM_EM</th>\n",
              "      <th>ANO_IN_GRAD</th>\n",
              "      <th>CO_TURNO_GRADUACAO</th>\n",
              "      <th>TP_INSCRICAO_ADM</th>\n",
              "      <th>TP_INSCRICAO</th>\n",
              "      <th>NU_ITEM_OFG</th>\n",
              "      <th>NU_ITEM_OFG_Z</th>\n",
              "      <th>NU_ITEM_OFG_X</th>\n",
              "      <th>NU_ITEM_OFG_N</th>\n",
              "      <th>NU_ITEM_OCE</th>\n",
              "      <th>NU_ITEM_OCE_Z</th>\n",
              "      <th>NU_ITEM_OCE_X</th>\n",
              "      <th>NU_ITEM_OCE_N</th>\n",
              "      <th>DS_VT_GAB_OFG_ORIG</th>\n",
              "      <th>DS_VT_GAB_OFG_FIN</th>\n",
              "      <th>DS_VT_GAB_OCE_ORIG</th>\n",
              "      <th>DS_VT_GAB_OCE_FIN</th>\n",
              "      <th>DS_VT_ESC_OFG</th>\n",
              "      <th>DS_VT_ACE_OFG</th>\n",
              "      <th>DS_VT_ESC_OCE</th>\n",
              "      <th>DS_VT_ACE_OCE</th>\n",
              "      <th>TP_PRES</th>\n",
              "      <th>TP_PR_GER</th>\n",
              "      <th>TP_PR_OB_FG</th>\n",
              "      <th>TP_PR_DI_FG</th>\n",
              "      <th>TP_PR_OB_CE</th>\n",
              "      <th>TP_PR_DI_CE</th>\n",
              "      <th>TP_SFG_D1</th>\n",
              "      <th>...</th>\n",
              "      <th>QE_I29</th>\n",
              "      <th>QE_I30</th>\n",
              "      <th>QE_I31</th>\n",
              "      <th>QE_I32</th>\n",
              "      <th>QE_I33</th>\n",
              "      <th>QE_I34</th>\n",
              "      <th>QE_I35</th>\n",
              "      <th>QE_I36</th>\n",
              "      <th>QE_I37</th>\n",
              "      <th>QE_I38</th>\n",
              "      <th>QE_I39</th>\n",
              "      <th>QE_I40</th>\n",
              "      <th>QE_I41</th>\n",
              "      <th>QE_I42</th>\n",
              "      <th>QE_I43</th>\n",
              "      <th>QE_I44</th>\n",
              "      <th>QE_I45</th>\n",
              "      <th>QE_I46</th>\n",
              "      <th>QE_I47</th>\n",
              "      <th>QE_I48</th>\n",
              "      <th>QE_I49</th>\n",
              "      <th>QE_I50</th>\n",
              "      <th>QE_I51</th>\n",
              "      <th>QE_I52</th>\n",
              "      <th>QE_I53</th>\n",
              "      <th>QE_I54</th>\n",
              "      <th>QE_I55</th>\n",
              "      <th>QE_I56</th>\n",
              "      <th>QE_I57</th>\n",
              "      <th>QE_I58</th>\n",
              "      <th>QE_I59</th>\n",
              "      <th>QE_I60</th>\n",
              "      <th>QE_I61</th>\n",
              "      <th>QE_I62</th>\n",
              "      <th>QE_I63</th>\n",
              "      <th>QE_I64</th>\n",
              "      <th>QE_I65</th>\n",
              "      <th>QE_I66</th>\n",
              "      <th>QE_I67</th>\n",
              "      <th>QE_I68</th>\n",
              "    </tr>\n",
              "  </thead>\n",
              "  <tbody>\n",
              "    <tr>\n",
              "      <th>0</th>\n",
              "      <td>2019</td>\n",
              "      <td>1</td>\n",
              "      <td>10002</td>\n",
              "      <td>10028</td>\n",
              "      <td>5710</td>\n",
              "      <td>3</td>\n",
              "      <td>1</td>\n",
              "      <td>5103403</td>\n",
              "      <td>51</td>\n",
              "      <td>5</td>\n",
              "      <td>27</td>\n",
              "      <td>M</td>\n",
              "      <td>2010</td>\n",
              "      <td>2012.0</td>\n",
              "      <td>3.0</td>\n",
              "      <td>1</td>\n",
              "      <td>0</td>\n",
              "      <td>8</td>\n",
              "      <td>1</td>\n",
              "      <td>0</td>\n",
              "      <td>0</td>\n",
              "      <td>27</td>\n",
              "      <td>0</td>\n",
              "      <td>7</td>\n",
              "      <td>0</td>\n",
              "      <td>ZDCBCCDB</td>\n",
              "      <td>ZDCBCCDB</td>\n",
              "      <td>ABECDDEABDECCBCDEBAEDCDBAAA</td>\n",
              "      <td>ABEXDDEABDECXXXDXBAEDCXXAAA</td>\n",
              "      <td>DACBCBDD</td>\n",
              "      <td>80111010</td>\n",
              "      <td>ABEEDDDAADEAEECBBABECCACBAA</td>\n",
              "      <td>1,11911E+26</td>\n",
              "      <td>555</td>\n",
              "      <td>555</td>\n",
              "      <td>555</td>\n",
              "      <td>555</td>\n",
              "      <td>555</td>\n",
              "      <td>555</td>\n",
              "      <td>336</td>\n",
              "      <td>...</td>\n",
              "      <td>7</td>\n",
              "      <td>1</td>\n",
              "      <td>3</td>\n",
              "      <td>5</td>\n",
              "      <td>7</td>\n",
              "      <td>7</td>\n",
              "      <td>1</td>\n",
              "      <td>1</td>\n",
              "      <td>2</td>\n",
              "      <td>6</td>\n",
              "      <td>4</td>\n",
              "      <td>1</td>\n",
              "      <td>3</td>\n",
              "      <td>6</td>\n",
              "      <td>1</td>\n",
              "      <td>1</td>\n",
              "      <td>1</td>\n",
              "      <td>1</td>\n",
              "      <td>1</td>\n",
              "      <td>2</td>\n",
              "      <td>2</td>\n",
              "      <td>6</td>\n",
              "      <td>2</td>\n",
              "      <td>1</td>\n",
              "      <td>8</td>\n",
              "      <td>1</td>\n",
              "      <td>3</td>\n",
              "      <td>2</td>\n",
              "      <td>5</td>\n",
              "      <td>6</td>\n",
              "      <td>2</td>\n",
              "      <td>5</td>\n",
              "      <td>1</td>\n",
              "      <td>1</td>\n",
              "      <td>2</td>\n",
              "      <td>5</td>\n",
              "      <td>8</td>\n",
              "      <td>7</td>\n",
              "      <td>1</td>\n",
              "      <td>2</td>\n",
              "    </tr>\n",
              "    <tr>\n",
              "      <th>1</th>\n",
              "      <td>2019</td>\n",
              "      <td>1</td>\n",
              "      <td>10002</td>\n",
              "      <td>10028</td>\n",
              "      <td>5710</td>\n",
              "      <td>3</td>\n",
              "      <td>1</td>\n",
              "      <td>5103403</td>\n",
              "      <td>51</td>\n",
              "      <td>5</td>\n",
              "      <td>26</td>\n",
              "      <td>M</td>\n",
              "      <td>2009</td>\n",
              "      <td>2015.0</td>\n",
              "      <td>3.0</td>\n",
              "      <td>1</td>\n",
              "      <td>0</td>\n",
              "      <td>8</td>\n",
              "      <td>1</td>\n",
              "      <td>0</td>\n",
              "      <td>0</td>\n",
              "      <td>27</td>\n",
              "      <td>0</td>\n",
              "      <td>7</td>\n",
              "      <td>0</td>\n",
              "      <td>ZDCBCCDB</td>\n",
              "      <td>ZDCBCCDB</td>\n",
              "      <td>ABECDDEABDECCBCDEBAEDCDBAAA</td>\n",
              "      <td>ABEXDDEABDECXXXDXBAEDCXXAAA</td>\n",
              "      <td>CDCBDCBC</td>\n",
              "      <td>81110100</td>\n",
              "      <td>ABCECDEBAABCCCDDDBAEDCBADDA</td>\n",
              "      <td>1,10901E+26</td>\n",
              "      <td>555</td>\n",
              "      <td>555</td>\n",
              "      <td>555</td>\n",
              "      <td>555</td>\n",
              "      <td>555</td>\n",
              "      <td>555</td>\n",
              "      <td>555</td>\n",
              "      <td>...</td>\n",
              "      <td>2</td>\n",
              "      <td>1</td>\n",
              "      <td>3</td>\n",
              "      <td>2</td>\n",
              "      <td>3</td>\n",
              "      <td>3</td>\n",
              "      <td>1</td>\n",
              "      <td>2</td>\n",
              "      <td>1</td>\n",
              "      <td>2</td>\n",
              "      <td>3</td>\n",
              "      <td>2</td>\n",
              "      <td>1</td>\n",
              "      <td>6</td>\n",
              "      <td>1</td>\n",
              "      <td>1</td>\n",
              "      <td>1</td>\n",
              "      <td>1</td>\n",
              "      <td>2</td>\n",
              "      <td>1</td>\n",
              "      <td>2</td>\n",
              "      <td>5</td>\n",
              "      <td>3</td>\n",
              "      <td>1</td>\n",
              "      <td>2</td>\n",
              "      <td>7</td>\n",
              "      <td>2</td>\n",
              "      <td>1</td>\n",
              "      <td>4</td>\n",
              "      <td>3</td>\n",
              "      <td>1</td>\n",
              "      <td>4</td>\n",
              "      <td>2</td>\n",
              "      <td>2</td>\n",
              "      <td>2</td>\n",
              "      <td>5</td>\n",
              "      <td>4</td>\n",
              "      <td>4</td>\n",
              "      <td>2</td>\n",
              "      <td>2</td>\n",
              "    </tr>\n",
              "    <tr>\n",
              "      <th>2</th>\n",
              "      <td>2019</td>\n",
              "      <td>1</td>\n",
              "      <td>10002</td>\n",
              "      <td>10028</td>\n",
              "      <td>5710</td>\n",
              "      <td>3</td>\n",
              "      <td>1</td>\n",
              "      <td>5103403</td>\n",
              "      <td>51</td>\n",
              "      <td>5</td>\n",
              "      <td>23</td>\n",
              "      <td>M</td>\n",
              "      <td>2012</td>\n",
              "      <td>2016.0</td>\n",
              "      <td>3.0</td>\n",
              "      <td>1</td>\n",
              "      <td>0</td>\n",
              "      <td>8</td>\n",
              "      <td>1</td>\n",
              "      <td>0</td>\n",
              "      <td>0</td>\n",
              "      <td>27</td>\n",
              "      <td>0</td>\n",
              "      <td>7</td>\n",
              "      <td>0</td>\n",
              "      <td>ZDCBCCDB</td>\n",
              "      <td>ZDCBCCDB</td>\n",
              "      <td>ABECDDEABDECCBCDEBAEDCDBAAA</td>\n",
              "      <td>ABEXDDEABDECXXXDXBAEDCXXAAA</td>\n",
              "      <td></td>\n",
              "      <td></td>\n",
              "      <td></td>\n",
              "      <td></td>\n",
              "      <td>222</td>\n",
              "      <td>222</td>\n",
              "      <td>222</td>\n",
              "      <td>222</td>\n",
              "      <td>222</td>\n",
              "      <td>222</td>\n",
              "      <td>222</td>\n",
              "      <td>...</td>\n",
              "      <td>2</td>\n",
              "      <td>1</td>\n",
              "      <td>3</td>\n",
              "      <td>2</td>\n",
              "      <td>2</td>\n",
              "      <td>2</td>\n",
              "      <td>2</td>\n",
              "      <td>2</td>\n",
              "      <td>1</td>\n",
              "      <td>1</td>\n",
              "      <td>2</td>\n",
              "      <td>1</td>\n",
              "      <td>2</td>\n",
              "      <td>6</td>\n",
              "      <td>1</td>\n",
              "      <td>1</td>\n",
              "      <td>1</td>\n",
              "      <td>4</td>\n",
              "      <td>1</td>\n",
              "      <td>1</td>\n",
              "      <td>2</td>\n",
              "      <td>6</td>\n",
              "      <td>3</td>\n",
              "      <td>1</td>\n",
              "      <td>1</td>\n",
              "      <td>2</td>\n",
              "      <td>2</td>\n",
              "      <td>2</td>\n",
              "      <td>5</td>\n",
              "      <td>2</td>\n",
              "      <td>3</td>\n",
              "      <td>4</td>\n",
              "      <td>4</td>\n",
              "      <td>3</td>\n",
              "      <td>3</td>\n",
              "      <td>4</td>\n",
              "      <td>1</td>\n",
              "      <td>1</td>\n",
              "      <td>1</td>\n",
              "      <td>4</td>\n",
              "    </tr>\n",
              "    <tr>\n",
              "      <th>3</th>\n",
              "      <td>2019</td>\n",
              "      <td>1</td>\n",
              "      <td>10002</td>\n",
              "      <td>10028</td>\n",
              "      <td>5710</td>\n",
              "      <td>3</td>\n",
              "      <td>1</td>\n",
              "      <td>5103403</td>\n",
              "      <td>51</td>\n",
              "      <td>5</td>\n",
              "      <td>24</td>\n",
              "      <td>M</td>\n",
              "      <td>2013</td>\n",
              "      <td>2014.0</td>\n",
              "      <td>3.0</td>\n",
              "      <td>1</td>\n",
              "      <td>0</td>\n",
              "      <td>8</td>\n",
              "      <td>1</td>\n",
              "      <td>0</td>\n",
              "      <td>0</td>\n",
              "      <td>27</td>\n",
              "      <td>0</td>\n",
              "      <td>7</td>\n",
              "      <td>0</td>\n",
              "      <td>ZDCBCCDB</td>\n",
              "      <td>ZDCBCCDB</td>\n",
              "      <td>ABECDDEABDECCBCDEBAEDCDBAAA</td>\n",
              "      <td>ABEXDDEABDECXXXDXBAEDCXXAAA</td>\n",
              "      <td>ADCCACEB</td>\n",
              "      <td>81100101</td>\n",
              "      <td>EEEEAEDABAEADAEDACABDCCCDDC</td>\n",
              "      <td>1,90001E+24</td>\n",
              "      <td>555</td>\n",
              "      <td>555</td>\n",
              "      <td>555</td>\n",
              "      <td>555</td>\n",
              "      <td>555</td>\n",
              "      <td>555</td>\n",
              "      <td>555</td>\n",
              "      <td>...</td>\n",
              "      <td>3</td>\n",
              "      <td>2</td>\n",
              "      <td>4</td>\n",
              "      <td>5</td>\n",
              "      <td>5</td>\n",
              "      <td>4</td>\n",
              "      <td>5</td>\n",
              "      <td>4</td>\n",
              "      <td>3</td>\n",
              "      <td>2</td>\n",
              "      <td>3</td>\n",
              "      <td>3</td>\n",
              "      <td>4</td>\n",
              "      <td>6</td>\n",
              "      <td>4</td>\n",
              "      <td>4</td>\n",
              "      <td>8</td>\n",
              "      <td>3</td>\n",
              "      <td>3</td>\n",
              "      <td>2</td>\n",
              "      <td>2</td>\n",
              "      <td>8</td>\n",
              "      <td>8</td>\n",
              "      <td>3</td>\n",
              "      <td>1</td>\n",
              "      <td>1</td>\n",
              "      <td>3</td>\n",
              "      <td>3</td>\n",
              "      <td>4</td>\n",
              "      <td>3</td>\n",
              "      <td>3</td>\n",
              "      <td>5</td>\n",
              "      <td>2</td>\n",
              "      <td>2</td>\n",
              "      <td>2</td>\n",
              "      <td>3</td>\n",
              "      <td>3</td>\n",
              "      <td>4</td>\n",
              "      <td>3</td>\n",
              "      <td>3</td>\n",
              "    </tr>\n",
              "    <tr>\n",
              "      <th>4</th>\n",
              "      <td>2019</td>\n",
              "      <td>1</td>\n",
              "      <td>10002</td>\n",
              "      <td>10028</td>\n",
              "      <td>5710</td>\n",
              "      <td>3</td>\n",
              "      <td>1</td>\n",
              "      <td>5103403</td>\n",
              "      <td>51</td>\n",
              "      <td>5</td>\n",
              "      <td>41</td>\n",
              "      <td>M</td>\n",
              "      <td>2012</td>\n",
              "      <td>2013.0</td>\n",
              "      <td>3.0</td>\n",
              "      <td>1</td>\n",
              "      <td>0</td>\n",
              "      <td>8</td>\n",
              "      <td>1</td>\n",
              "      <td>0</td>\n",
              "      <td>0</td>\n",
              "      <td>27</td>\n",
              "      <td>0</td>\n",
              "      <td>7</td>\n",
              "      <td>0</td>\n",
              "      <td>ZDCBCCDB</td>\n",
              "      <td>ZDCBCCDB</td>\n",
              "      <td>ABECDDEABDECCBCDEBAEDCDBAAA</td>\n",
              "      <td>ABEXDDEABDECXXXDXBAEDCXXAAA</td>\n",
              "      <td></td>\n",
              "      <td></td>\n",
              "      <td></td>\n",
              "      <td></td>\n",
              "      <td>222</td>\n",
              "      <td>222</td>\n",
              "      <td>222</td>\n",
              "      <td>222</td>\n",
              "      <td>222</td>\n",
              "      <td>222</td>\n",
              "      <td>222</td>\n",
              "      <td>...</td>\n",
              "      <td>NaN</td>\n",
              "      <td>NaN</td>\n",
              "      <td>NaN</td>\n",
              "      <td>NaN</td>\n",
              "      <td>NaN</td>\n",
              "      <td>NaN</td>\n",
              "      <td>NaN</td>\n",
              "      <td>NaN</td>\n",
              "      <td>NaN</td>\n",
              "      <td>NaN</td>\n",
              "      <td>NaN</td>\n",
              "      <td>NaN</td>\n",
              "      <td>NaN</td>\n",
              "      <td>NaN</td>\n",
              "      <td>NaN</td>\n",
              "      <td>NaN</td>\n",
              "      <td>NaN</td>\n",
              "      <td>NaN</td>\n",
              "      <td>NaN</td>\n",
              "      <td>NaN</td>\n",
              "      <td>NaN</td>\n",
              "      <td>NaN</td>\n",
              "      <td>NaN</td>\n",
              "      <td>NaN</td>\n",
              "      <td>NaN</td>\n",
              "      <td>NaN</td>\n",
              "      <td>NaN</td>\n",
              "      <td>NaN</td>\n",
              "      <td>NaN</td>\n",
              "      <td>NaN</td>\n",
              "      <td>NaN</td>\n",
              "      <td>NaN</td>\n",
              "      <td>NaN</td>\n",
              "      <td>NaN</td>\n",
              "      <td>NaN</td>\n",
              "      <td>NaN</td>\n",
              "      <td>NaN</td>\n",
              "      <td>NaN</td>\n",
              "      <td>NaN</td>\n",
              "      <td>NaN</td>\n",
              "    </tr>\n",
              "  </tbody>\n",
              "</table>\n",
              "<p>5 rows × 137 columns</p>\n",
              "</div>"
            ],
            "text/plain": [
              "   NU_ANO  CO_IES  CO_CATEGAD  CO_ORGACAD  ...  QE_I65  QE_I66  QE_I67  QE_I68\n",
              "0    2019       1       10002       10028  ...       8       7       1       2\n",
              "1    2019       1       10002       10028  ...       4       4       2       2\n",
              "2    2019       1       10002       10028  ...       1       1       1       4\n",
              "3    2019       1       10002       10028  ...       3       4       3       3\n",
              "4    2019       1       10002       10028  ...     NaN     NaN     NaN     NaN\n",
              "\n",
              "[5 rows x 137 columns]"
            ]
          },
          "metadata": {},
          "execution_count": 20
        }
      ]
    },
    {
      "cell_type": "code",
      "metadata": {
        "colab": {
          "base_uri": "https://localhost:8080/",
          "height": 419
        },
        "id": "vckq6XAvI0Rx",
        "outputId": "0ae7d961-17d3-4c38-dc4d-e08bad3d1ae8"
      },
      "source": [
        "# Verificar os dados faltantes\n",
        "pd.DataFrame({'tipos':data.dtypes, 'missing':data.isna().sum()})"
      ],
      "execution_count": 21,
      "outputs": [
        {
          "output_type": "execute_result",
          "data": {
            "text/html": [
              "<div>\n",
              "<style scoped>\n",
              "    .dataframe tbody tr th:only-of-type {\n",
              "        vertical-align: middle;\n",
              "    }\n",
              "\n",
              "    .dataframe tbody tr th {\n",
              "        vertical-align: top;\n",
              "    }\n",
              "\n",
              "    .dataframe thead th {\n",
              "        text-align: right;\n",
              "    }\n",
              "</style>\n",
              "<table border=\"1\" class=\"dataframe\">\n",
              "  <thead>\n",
              "    <tr style=\"text-align: right;\">\n",
              "      <th></th>\n",
              "      <th>tipos</th>\n",
              "      <th>missing</th>\n",
              "    </tr>\n",
              "  </thead>\n",
              "  <tbody>\n",
              "    <tr>\n",
              "      <th>NU_ANO</th>\n",
              "      <td>int64</td>\n",
              "      <td>0</td>\n",
              "    </tr>\n",
              "    <tr>\n",
              "      <th>CO_IES</th>\n",
              "      <td>int64</td>\n",
              "      <td>0</td>\n",
              "    </tr>\n",
              "    <tr>\n",
              "      <th>CO_CATEGAD</th>\n",
              "      <td>int64</td>\n",
              "      <td>0</td>\n",
              "    </tr>\n",
              "    <tr>\n",
              "      <th>CO_ORGACAD</th>\n",
              "      <td>int64</td>\n",
              "      <td>0</td>\n",
              "    </tr>\n",
              "    <tr>\n",
              "      <th>CO_GRUPO</th>\n",
              "      <td>int64</td>\n",
              "      <td>0</td>\n",
              "    </tr>\n",
              "    <tr>\n",
              "      <th>...</th>\n",
              "      <td>...</td>\n",
              "      <td>...</td>\n",
              "    </tr>\n",
              "    <tr>\n",
              "      <th>QE_I64</th>\n",
              "      <td>object</td>\n",
              "      <td>26065</td>\n",
              "    </tr>\n",
              "    <tr>\n",
              "      <th>QE_I65</th>\n",
              "      <td>object</td>\n",
              "      <td>26064</td>\n",
              "    </tr>\n",
              "    <tr>\n",
              "      <th>QE_I66</th>\n",
              "      <td>object</td>\n",
              "      <td>26067</td>\n",
              "    </tr>\n",
              "    <tr>\n",
              "      <th>QE_I67</th>\n",
              "      <td>object</td>\n",
              "      <td>26064</td>\n",
              "    </tr>\n",
              "    <tr>\n",
              "      <th>QE_I68</th>\n",
              "      <td>object</td>\n",
              "      <td>26072</td>\n",
              "    </tr>\n",
              "  </tbody>\n",
              "</table>\n",
              "<p>137 rows × 2 columns</p>\n",
              "</div>"
            ],
            "text/plain": [
              "             tipos  missing\n",
              "NU_ANO       int64        0\n",
              "CO_IES       int64        0\n",
              "CO_CATEGAD   int64        0\n",
              "CO_ORGACAD   int64        0\n",
              "CO_GRUPO     int64        0\n",
              "...            ...      ...\n",
              "QE_I64      object    26065\n",
              "QE_I65      object    26064\n",
              "QE_I66      object    26067\n",
              "QE_I67      object    26064\n",
              "QE_I68      object    26072\n",
              "\n",
              "[137 rows x 2 columns]"
            ]
          },
          "metadata": {},
          "execution_count": 21
        }
      ]
    },
    {
      "cell_type": "markdown",
      "metadata": {
        "id": "7Kok4kiPXUuW"
      },
      "source": [
        "*Limpeza e Tratamento dos Dados*"
      ]
    },
    {
      "cell_type": "code",
      "metadata": {
        "id": "UDuFK4e1XgHg",
        "colab": {
          "base_uri": "https://localhost:8080/",
          "height": 241
        },
        "outputId": "58543867-2500-415c-8083-3cee39c618ff"
      },
      "source": [
        "# Eliminar colunas desnecessárias para análise do dataset\n",
        "data_new = data[['CO_GRUPO','CO_MODALIDADE','CO_UF_CURSO','CO_REGIAO_CURSO','NU_IDADE',\n",
        "                 'TP_SEXO','NT_GER','NT_FG','NT_CE','QE_I01','QE_I02','QE_I03','QE_I04',\n",
        "                 'QE_I05','QE_I06','QE_I07','QE_I08','QE_I09','QE_I10','QE_I11','QE_I12',\n",
        "                 'QE_I13','QE_I14','QE_I15','QE_I17','QE_I18','QE_I21','QE_I23']]           \n",
        "print('O novo dataset possui',len(data_new),'registros organizados em',len(data_new.columns),'colunas.')\n",
        "data_new.head()"
      ],
      "execution_count": 30,
      "outputs": [
        {
          "output_type": "stream",
          "name": "stdout",
          "text": [
            "O novo dataset possui 433930 registros organizados em 28 colunas.\n"
          ]
        },
        {
          "output_type": "execute_result",
          "data": {
            "text/html": [
              "<div>\n",
              "<style scoped>\n",
              "    .dataframe tbody tr th:only-of-type {\n",
              "        vertical-align: middle;\n",
              "    }\n",
              "\n",
              "    .dataframe tbody tr th {\n",
              "        vertical-align: top;\n",
              "    }\n",
              "\n",
              "    .dataframe thead th {\n",
              "        text-align: right;\n",
              "    }\n",
              "</style>\n",
              "<table border=\"1\" class=\"dataframe\">\n",
              "  <thead>\n",
              "    <tr style=\"text-align: right;\">\n",
              "      <th></th>\n",
              "      <th>CO_GRUPO</th>\n",
              "      <th>CO_MODALIDADE</th>\n",
              "      <th>CO_UF_CURSO</th>\n",
              "      <th>CO_REGIAO_CURSO</th>\n",
              "      <th>NU_IDADE</th>\n",
              "      <th>TP_SEXO</th>\n",
              "      <th>NT_GER</th>\n",
              "      <th>NT_FG</th>\n",
              "      <th>NT_CE</th>\n",
              "      <th>QE_I01</th>\n",
              "      <th>QE_I02</th>\n",
              "      <th>QE_I03</th>\n",
              "      <th>QE_I04</th>\n",
              "      <th>QE_I05</th>\n",
              "      <th>QE_I06</th>\n",
              "      <th>QE_I07</th>\n",
              "      <th>QE_I08</th>\n",
              "      <th>QE_I09</th>\n",
              "      <th>QE_I10</th>\n",
              "      <th>QE_I11</th>\n",
              "      <th>QE_I12</th>\n",
              "      <th>QE_I13</th>\n",
              "      <th>QE_I14</th>\n",
              "      <th>QE_I15</th>\n",
              "      <th>QE_I17</th>\n",
              "      <th>QE_I18</th>\n",
              "      <th>QE_I21</th>\n",
              "      <th>QE_I23</th>\n",
              "    </tr>\n",
              "  </thead>\n",
              "  <tbody>\n",
              "    <tr>\n",
              "      <th>0</th>\n",
              "      <td>5710</td>\n",
              "      <td>1</td>\n",
              "      <td>51</td>\n",
              "      <td>5</td>\n",
              "      <td>27</td>\n",
              "      <td>M</td>\n",
              "      <td>51,9</td>\n",
              "      <td>36,5</td>\n",
              "      <td>57</td>\n",
              "      <td>E</td>\n",
              "      <td>C</td>\n",
              "      <td>A</td>\n",
              "      <td>D</td>\n",
              "      <td>E</td>\n",
              "      <td>C</td>\n",
              "      <td>D</td>\n",
              "      <td>B</td>\n",
              "      <td>C</td>\n",
              "      <td>A</td>\n",
              "      <td>A</td>\n",
              "      <td>A</td>\n",
              "      <td>A</td>\n",
              "      <td>A</td>\n",
              "      <td>A</td>\n",
              "      <td>B</td>\n",
              "      <td>A</td>\n",
              "      <td>A</td>\n",
              "      <td>D</td>\n",
              "    </tr>\n",
              "    <tr>\n",
              "      <th>1</th>\n",
              "      <td>5710</td>\n",
              "      <td>1</td>\n",
              "      <td>51</td>\n",
              "      <td>5</td>\n",
              "      <td>26</td>\n",
              "      <td>M</td>\n",
              "      <td>54,2</td>\n",
              "      <td>44,3</td>\n",
              "      <td>57,5</td>\n",
              "      <td>A</td>\n",
              "      <td>A</td>\n",
              "      <td>A</td>\n",
              "      <td>E</td>\n",
              "      <td>D</td>\n",
              "      <td>B</td>\n",
              "      <td>B</td>\n",
              "      <td>E</td>\n",
              "      <td>C</td>\n",
              "      <td>A</td>\n",
              "      <td>A</td>\n",
              "      <td>A</td>\n",
              "      <td>A</td>\n",
              "      <td>A</td>\n",
              "      <td>A</td>\n",
              "      <td>B</td>\n",
              "      <td>A</td>\n",
              "      <td>A</td>\n",
              "      <td>D</td>\n",
              "    </tr>\n",
              "    <tr>\n",
              "      <th>2</th>\n",
              "      <td>5710</td>\n",
              "      <td>1</td>\n",
              "      <td>51</td>\n",
              "      <td>5</td>\n",
              "      <td>23</td>\n",
              "      <td>M</td>\n",
              "      <td>NaN</td>\n",
              "      <td>NaN</td>\n",
              "      <td>NaN</td>\n",
              "      <td>A</td>\n",
              "      <td>A</td>\n",
              "      <td>A</td>\n",
              "      <td>E</td>\n",
              "      <td>E</td>\n",
              "      <td>B</td>\n",
              "      <td>D</td>\n",
              "      <td>E</td>\n",
              "      <td>B</td>\n",
              "      <td>B</td>\n",
              "      <td>A</td>\n",
              "      <td>A</td>\n",
              "      <td>A</td>\n",
              "      <td>A</td>\n",
              "      <td>D</td>\n",
              "      <td>A</td>\n",
              "      <td>A</td>\n",
              "      <td>A</td>\n",
              "      <td>B</td>\n",
              "    </tr>\n",
              "    <tr>\n",
              "      <th>3</th>\n",
              "      <td>5710</td>\n",
              "      <td>1</td>\n",
              "      <td>51</td>\n",
              "      <td>5</td>\n",
              "      <td>24</td>\n",
              "      <td>M</td>\n",
              "      <td>42,1</td>\n",
              "      <td>49,9</td>\n",
              "      <td>39,5</td>\n",
              "      <td>A</td>\n",
              "      <td>D</td>\n",
              "      <td>A</td>\n",
              "      <td>F</td>\n",
              "      <td>F</td>\n",
              "      <td>B</td>\n",
              "      <td>C</td>\n",
              "      <td>E</td>\n",
              "      <td>B</td>\n",
              "      <td>A</td>\n",
              "      <td>A</td>\n",
              "      <td>A</td>\n",
              "      <td>A</td>\n",
              "      <td>A</td>\n",
              "      <td>A</td>\n",
              "      <td>B</td>\n",
              "      <td>A</td>\n",
              "      <td>A</td>\n",
              "      <td>D</td>\n",
              "    </tr>\n",
              "    <tr>\n",
              "      <th>4</th>\n",
              "      <td>5710</td>\n",
              "      <td>1</td>\n",
              "      <td>51</td>\n",
              "      <td>5</td>\n",
              "      <td>41</td>\n",
              "      <td>M</td>\n",
              "      <td>NaN</td>\n",
              "      <td>NaN</td>\n",
              "      <td>NaN</td>\n",
              "      <td></td>\n",
              "      <td></td>\n",
              "      <td></td>\n",
              "      <td></td>\n",
              "      <td></td>\n",
              "      <td></td>\n",
              "      <td></td>\n",
              "      <td></td>\n",
              "      <td></td>\n",
              "      <td></td>\n",
              "      <td></td>\n",
              "      <td></td>\n",
              "      <td></td>\n",
              "      <td></td>\n",
              "      <td></td>\n",
              "      <td></td>\n",
              "      <td></td>\n",
              "      <td></td>\n",
              "      <td></td>\n",
              "    </tr>\n",
              "  </tbody>\n",
              "</table>\n",
              "</div>"
            ],
            "text/plain": [
              "   CO_GRUPO  CO_MODALIDADE  CO_UF_CURSO  ...  QE_I18  QE_I21 QE_I23\n",
              "0      5710              1           51  ...       A       A      D\n",
              "1      5710              1           51  ...       A       A      D\n",
              "2      5710              1           51  ...       A       A      B\n",
              "3      5710              1           51  ...       A       A      D\n",
              "4      5710              1           51  ...                       \n",
              "\n",
              "[5 rows x 28 columns]"
            ]
          },
          "metadata": {},
          "execution_count": 30
        }
      ]
    },
    {
      "cell_type": "code",
      "metadata": {
        "id": "jIDnH3c7fMwg",
        "colab": {
          "base_uri": "https://localhost:8080/",
          "height": 917
        },
        "outputId": "c7a7d57c-4fb1-420b-e357-f5ea9f5d9b65"
      },
      "source": [
        "# Verificar os dados faltantes do novo dataset\n",
        "pd.DataFrame({'tipos':data_new.dtypes, 'missing':data_new.isna().sum()})"
      ],
      "execution_count": 31,
      "outputs": [
        {
          "output_type": "execute_result",
          "data": {
            "text/html": [
              "<div>\n",
              "<style scoped>\n",
              "    .dataframe tbody tr th:only-of-type {\n",
              "        vertical-align: middle;\n",
              "    }\n",
              "\n",
              "    .dataframe tbody tr th {\n",
              "        vertical-align: top;\n",
              "    }\n",
              "\n",
              "    .dataframe thead th {\n",
              "        text-align: right;\n",
              "    }\n",
              "</style>\n",
              "<table border=\"1\" class=\"dataframe\">\n",
              "  <thead>\n",
              "    <tr style=\"text-align: right;\">\n",
              "      <th></th>\n",
              "      <th>tipos</th>\n",
              "      <th>missing</th>\n",
              "    </tr>\n",
              "  </thead>\n",
              "  <tbody>\n",
              "    <tr>\n",
              "      <th>CO_GRUPO</th>\n",
              "      <td>int64</td>\n",
              "      <td>0</td>\n",
              "    </tr>\n",
              "    <tr>\n",
              "      <th>CO_MODALIDADE</th>\n",
              "      <td>int64</td>\n",
              "      <td>0</td>\n",
              "    </tr>\n",
              "    <tr>\n",
              "      <th>CO_UF_CURSO</th>\n",
              "      <td>int64</td>\n",
              "      <td>0</td>\n",
              "    </tr>\n",
              "    <tr>\n",
              "      <th>CO_REGIAO_CURSO</th>\n",
              "      <td>int64</td>\n",
              "      <td>0</td>\n",
              "    </tr>\n",
              "    <tr>\n",
              "      <th>NU_IDADE</th>\n",
              "      <td>int64</td>\n",
              "      <td>0</td>\n",
              "    </tr>\n",
              "    <tr>\n",
              "      <th>TP_SEXO</th>\n",
              "      <td>object</td>\n",
              "      <td>0</td>\n",
              "    </tr>\n",
              "    <tr>\n",
              "      <th>NT_GER</th>\n",
              "      <td>object</td>\n",
              "      <td>43792</td>\n",
              "    </tr>\n",
              "    <tr>\n",
              "      <th>NT_FG</th>\n",
              "      <td>object</td>\n",
              "      <td>43792</td>\n",
              "    </tr>\n",
              "    <tr>\n",
              "      <th>NT_CE</th>\n",
              "      <td>object</td>\n",
              "      <td>43792</td>\n",
              "    </tr>\n",
              "    <tr>\n",
              "      <th>QE_I01</th>\n",
              "      <td>object</td>\n",
              "      <td>0</td>\n",
              "    </tr>\n",
              "    <tr>\n",
              "      <th>QE_I02</th>\n",
              "      <td>object</td>\n",
              "      <td>0</td>\n",
              "    </tr>\n",
              "    <tr>\n",
              "      <th>QE_I03</th>\n",
              "      <td>object</td>\n",
              "      <td>0</td>\n",
              "    </tr>\n",
              "    <tr>\n",
              "      <th>QE_I04</th>\n",
              "      <td>object</td>\n",
              "      <td>0</td>\n",
              "    </tr>\n",
              "    <tr>\n",
              "      <th>QE_I05</th>\n",
              "      <td>object</td>\n",
              "      <td>0</td>\n",
              "    </tr>\n",
              "    <tr>\n",
              "      <th>QE_I06</th>\n",
              "      <td>object</td>\n",
              "      <td>0</td>\n",
              "    </tr>\n",
              "    <tr>\n",
              "      <th>QE_I07</th>\n",
              "      <td>object</td>\n",
              "      <td>0</td>\n",
              "    </tr>\n",
              "    <tr>\n",
              "      <th>QE_I08</th>\n",
              "      <td>object</td>\n",
              "      <td>0</td>\n",
              "    </tr>\n",
              "    <tr>\n",
              "      <th>QE_I09</th>\n",
              "      <td>object</td>\n",
              "      <td>0</td>\n",
              "    </tr>\n",
              "    <tr>\n",
              "      <th>QE_I10</th>\n",
              "      <td>object</td>\n",
              "      <td>0</td>\n",
              "    </tr>\n",
              "    <tr>\n",
              "      <th>QE_I11</th>\n",
              "      <td>object</td>\n",
              "      <td>0</td>\n",
              "    </tr>\n",
              "    <tr>\n",
              "      <th>QE_I12</th>\n",
              "      <td>object</td>\n",
              "      <td>0</td>\n",
              "    </tr>\n",
              "    <tr>\n",
              "      <th>QE_I13</th>\n",
              "      <td>object</td>\n",
              "      <td>0</td>\n",
              "    </tr>\n",
              "    <tr>\n",
              "      <th>QE_I14</th>\n",
              "      <td>object</td>\n",
              "      <td>0</td>\n",
              "    </tr>\n",
              "    <tr>\n",
              "      <th>QE_I15</th>\n",
              "      <td>object</td>\n",
              "      <td>0</td>\n",
              "    </tr>\n",
              "    <tr>\n",
              "      <th>QE_I17</th>\n",
              "      <td>object</td>\n",
              "      <td>0</td>\n",
              "    </tr>\n",
              "    <tr>\n",
              "      <th>QE_I18</th>\n",
              "      <td>object</td>\n",
              "      <td>0</td>\n",
              "    </tr>\n",
              "    <tr>\n",
              "      <th>QE_I21</th>\n",
              "      <td>object</td>\n",
              "      <td>0</td>\n",
              "    </tr>\n",
              "    <tr>\n",
              "      <th>QE_I23</th>\n",
              "      <td>object</td>\n",
              "      <td>0</td>\n",
              "    </tr>\n",
              "  </tbody>\n",
              "</table>\n",
              "</div>"
            ],
            "text/plain": [
              "                  tipos  missing\n",
              "CO_GRUPO          int64        0\n",
              "CO_MODALIDADE     int64        0\n",
              "CO_UF_CURSO       int64        0\n",
              "CO_REGIAO_CURSO   int64        0\n",
              "NU_IDADE          int64        0\n",
              "TP_SEXO          object        0\n",
              "NT_GER           object    43792\n",
              "NT_FG            object    43792\n",
              "NT_CE            object    43792\n",
              "QE_I01           object        0\n",
              "QE_I02           object        0\n",
              "QE_I03           object        0\n",
              "QE_I04           object        0\n",
              "QE_I05           object        0\n",
              "QE_I06           object        0\n",
              "QE_I07           object        0\n",
              "QE_I08           object        0\n",
              "QE_I09           object        0\n",
              "QE_I10           object        0\n",
              "QE_I11           object        0\n",
              "QE_I12           object        0\n",
              "QE_I13           object        0\n",
              "QE_I14           object        0\n",
              "QE_I15           object        0\n",
              "QE_I17           object        0\n",
              "QE_I18           object        0\n",
              "QE_I21           object        0\n",
              "QE_I23           object        0"
            ]
          },
          "metadata": {},
          "execution_count": 31
        }
      ]
    },
    {
      "cell_type": "code",
      "metadata": {
        "id": "h__jP23UidL6",
        "colab": {
          "base_uri": "https://localhost:8080/",
          "height": 241
        },
        "outputId": "e00a46d4-4eb0-47e4-ec4a-d3a6226b0f5f"
      },
      "source": [
        "# Remover os registros que possuem dados faltantes\n",
        "data_new = data_new.dropna()\n",
        "data_new.drop_duplicates()\n",
        "data_new['NT_GER'].fillna('NA')\n",
        "data_new['NT_FG'].fillna('NA')\n",
        "data_new['NT_CE'].fillna('NA')\n",
        "data_new = data_new.dropna()\n",
        "print('O novo dataset possui',len(data_new),'registros organizados em',len(data_new.columns),'colunas.')\n",
        "data_new.head()"
      ],
      "execution_count": 35,
      "outputs": [
        {
          "output_type": "stream",
          "name": "stdout",
          "text": [
            "O novo dataset possui 390135 registros organizados em 28 colunas.\n"
          ]
        },
        {
          "output_type": "execute_result",
          "data": {
            "text/html": [
              "<div>\n",
              "<style scoped>\n",
              "    .dataframe tbody tr th:only-of-type {\n",
              "        vertical-align: middle;\n",
              "    }\n",
              "\n",
              "    .dataframe tbody tr th {\n",
              "        vertical-align: top;\n",
              "    }\n",
              "\n",
              "    .dataframe thead th {\n",
              "        text-align: right;\n",
              "    }\n",
              "</style>\n",
              "<table border=\"1\" class=\"dataframe\">\n",
              "  <thead>\n",
              "    <tr style=\"text-align: right;\">\n",
              "      <th></th>\n",
              "      <th>CO_GRUPO</th>\n",
              "      <th>CO_MODALIDADE</th>\n",
              "      <th>CO_UF_CURSO</th>\n",
              "      <th>CO_REGIAO_CURSO</th>\n",
              "      <th>NU_IDADE</th>\n",
              "      <th>TP_SEXO</th>\n",
              "      <th>NT_GER</th>\n",
              "      <th>NT_FG</th>\n",
              "      <th>NT_CE</th>\n",
              "      <th>QE_I01</th>\n",
              "      <th>QE_I02</th>\n",
              "      <th>QE_I03</th>\n",
              "      <th>QE_I04</th>\n",
              "      <th>QE_I05</th>\n",
              "      <th>QE_I06</th>\n",
              "      <th>QE_I07</th>\n",
              "      <th>QE_I08</th>\n",
              "      <th>QE_I09</th>\n",
              "      <th>QE_I10</th>\n",
              "      <th>QE_I11</th>\n",
              "      <th>QE_I12</th>\n",
              "      <th>QE_I13</th>\n",
              "      <th>QE_I14</th>\n",
              "      <th>QE_I15</th>\n",
              "      <th>QE_I17</th>\n",
              "      <th>QE_I18</th>\n",
              "      <th>QE_I21</th>\n",
              "      <th>QE_I23</th>\n",
              "    </tr>\n",
              "  </thead>\n",
              "  <tbody>\n",
              "    <tr>\n",
              "      <th>0</th>\n",
              "      <td>5710</td>\n",
              "      <td>1</td>\n",
              "      <td>51</td>\n",
              "      <td>5</td>\n",
              "      <td>27</td>\n",
              "      <td>M</td>\n",
              "      <td>51.9</td>\n",
              "      <td>36.5</td>\n",
              "      <td>57.0</td>\n",
              "      <td>E</td>\n",
              "      <td>C</td>\n",
              "      <td>A</td>\n",
              "      <td>D</td>\n",
              "      <td>E</td>\n",
              "      <td>C</td>\n",
              "      <td>D</td>\n",
              "      <td>B</td>\n",
              "      <td>C</td>\n",
              "      <td>A</td>\n",
              "      <td>A</td>\n",
              "      <td>A</td>\n",
              "      <td>A</td>\n",
              "      <td>A</td>\n",
              "      <td>A</td>\n",
              "      <td>B</td>\n",
              "      <td>A</td>\n",
              "      <td>A</td>\n",
              "      <td>D</td>\n",
              "    </tr>\n",
              "    <tr>\n",
              "      <th>1</th>\n",
              "      <td>5710</td>\n",
              "      <td>1</td>\n",
              "      <td>51</td>\n",
              "      <td>5</td>\n",
              "      <td>26</td>\n",
              "      <td>M</td>\n",
              "      <td>54.2</td>\n",
              "      <td>44.3</td>\n",
              "      <td>57.5</td>\n",
              "      <td>A</td>\n",
              "      <td>A</td>\n",
              "      <td>A</td>\n",
              "      <td>E</td>\n",
              "      <td>D</td>\n",
              "      <td>B</td>\n",
              "      <td>B</td>\n",
              "      <td>E</td>\n",
              "      <td>C</td>\n",
              "      <td>A</td>\n",
              "      <td>A</td>\n",
              "      <td>A</td>\n",
              "      <td>A</td>\n",
              "      <td>A</td>\n",
              "      <td>A</td>\n",
              "      <td>B</td>\n",
              "      <td>A</td>\n",
              "      <td>A</td>\n",
              "      <td>D</td>\n",
              "    </tr>\n",
              "    <tr>\n",
              "      <th>3</th>\n",
              "      <td>5710</td>\n",
              "      <td>1</td>\n",
              "      <td>51</td>\n",
              "      <td>5</td>\n",
              "      <td>24</td>\n",
              "      <td>M</td>\n",
              "      <td>42.1</td>\n",
              "      <td>49.9</td>\n",
              "      <td>39.5</td>\n",
              "      <td>A</td>\n",
              "      <td>D</td>\n",
              "      <td>A</td>\n",
              "      <td>F</td>\n",
              "      <td>F</td>\n",
              "      <td>B</td>\n",
              "      <td>C</td>\n",
              "      <td>E</td>\n",
              "      <td>B</td>\n",
              "      <td>A</td>\n",
              "      <td>A</td>\n",
              "      <td>A</td>\n",
              "      <td>A</td>\n",
              "      <td>A</td>\n",
              "      <td>A</td>\n",
              "      <td>B</td>\n",
              "      <td>A</td>\n",
              "      <td>A</td>\n",
              "      <td>D</td>\n",
              "    </tr>\n",
              "    <tr>\n",
              "      <th>5</th>\n",
              "      <td>5710</td>\n",
              "      <td>1</td>\n",
              "      <td>51</td>\n",
              "      <td>5</td>\n",
              "      <td>26</td>\n",
              "      <td>M</td>\n",
              "      <td>49.3</td>\n",
              "      <td>40.3</td>\n",
              "      <td>52.3</td>\n",
              "      <td>A</td>\n",
              "      <td>A</td>\n",
              "      <td>A</td>\n",
              "      <td>E</td>\n",
              "      <td>E</td>\n",
              "      <td>D</td>\n",
              "      <td>A</td>\n",
              "      <td>C</td>\n",
              "      <td>C</td>\n",
              "      <td>D</td>\n",
              "      <td>A</td>\n",
              "      <td>A</td>\n",
              "      <td>A</td>\n",
              "      <td>A</td>\n",
              "      <td>A</td>\n",
              "      <td>B</td>\n",
              "      <td>A</td>\n",
              "      <td>A</td>\n",
              "      <td>E</td>\n",
              "    </tr>\n",
              "    <tr>\n",
              "      <th>6</th>\n",
              "      <td>5710</td>\n",
              "      <td>1</td>\n",
              "      <td>51</td>\n",
              "      <td>5</td>\n",
              "      <td>24</td>\n",
              "      <td>M</td>\n",
              "      <td>49.6</td>\n",
              "      <td>59.6</td>\n",
              "      <td>46.2</td>\n",
              "      <td>A</td>\n",
              "      <td>A</td>\n",
              "      <td>A</td>\n",
              "      <td>E</td>\n",
              "      <td>E</td>\n",
              "      <td>B</td>\n",
              "      <td>B</td>\n",
              "      <td>E</td>\n",
              "      <td>B</td>\n",
              "      <td>A</td>\n",
              "      <td>A</td>\n",
              "      <td>A</td>\n",
              "      <td>A</td>\n",
              "      <td>A</td>\n",
              "      <td>A</td>\n",
              "      <td>B</td>\n",
              "      <td>A</td>\n",
              "      <td>A</td>\n",
              "      <td>C</td>\n",
              "    </tr>\n",
              "  </tbody>\n",
              "</table>\n",
              "</div>"
            ],
            "text/plain": [
              "   CO_GRUPO  CO_MODALIDADE  CO_UF_CURSO  ...  QE_I18  QE_I21 QE_I23\n",
              "0      5710              1           51  ...       A       A      D\n",
              "1      5710              1           51  ...       A       A      D\n",
              "3      5710              1           51  ...       A       A      D\n",
              "5      5710              1           51  ...       A       A      E\n",
              "6      5710              1           51  ...       A       A      C\n",
              "\n",
              "[5 rows x 28 columns]"
            ]
          },
          "metadata": {},
          "execution_count": 35
        }
      ]
    },
    {
      "cell_type": "code",
      "metadata": {
        "id": "f7C2s2sKlToy",
        "colab": {
          "base_uri": "https://localhost:8080/",
          "height": 917
        },
        "outputId": "0eb0cb35-6fa8-4ce7-f7b4-64fcc7dbdbd6"
      },
      "source": [
        "# Tratar variáveis quantitativas e confirmar que não há mais dados faltantes no novo dataset após eliminação dos registros \n",
        "data_new['NT_GER'] = pd.to_numeric(data_new['NT_GER'],errors='coerce')\n",
        "data_new['NT_FG'] = pd.to_numeric(data_new['NT_FG'],errors='coerce')\n",
        "data_new['NT_CE'] = pd.to_numeric(data_new['NT_CE'],errors='coerce')\n",
        "pd.DataFrame({'tipos':data_new.dtypes, 'missing':data_new.isna().sum()})"
      ],
      "execution_count": 40,
      "outputs": [
        {
          "output_type": "execute_result",
          "data": {
            "text/html": [
              "<div>\n",
              "<style scoped>\n",
              "    .dataframe tbody tr th:only-of-type {\n",
              "        vertical-align: middle;\n",
              "    }\n",
              "\n",
              "    .dataframe tbody tr th {\n",
              "        vertical-align: top;\n",
              "    }\n",
              "\n",
              "    .dataframe thead th {\n",
              "        text-align: right;\n",
              "    }\n",
              "</style>\n",
              "<table border=\"1\" class=\"dataframe\">\n",
              "  <thead>\n",
              "    <tr style=\"text-align: right;\">\n",
              "      <th></th>\n",
              "      <th>tipos</th>\n",
              "      <th>missing</th>\n",
              "    </tr>\n",
              "  </thead>\n",
              "  <tbody>\n",
              "    <tr>\n",
              "      <th>CO_GRUPO</th>\n",
              "      <td>int64</td>\n",
              "      <td>0</td>\n",
              "    </tr>\n",
              "    <tr>\n",
              "      <th>CO_MODALIDADE</th>\n",
              "      <td>int64</td>\n",
              "      <td>0</td>\n",
              "    </tr>\n",
              "    <tr>\n",
              "      <th>CO_UF_CURSO</th>\n",
              "      <td>int64</td>\n",
              "      <td>0</td>\n",
              "    </tr>\n",
              "    <tr>\n",
              "      <th>CO_REGIAO_CURSO</th>\n",
              "      <td>int64</td>\n",
              "      <td>0</td>\n",
              "    </tr>\n",
              "    <tr>\n",
              "      <th>NU_IDADE</th>\n",
              "      <td>int64</td>\n",
              "      <td>0</td>\n",
              "    </tr>\n",
              "    <tr>\n",
              "      <th>TP_SEXO</th>\n",
              "      <td>object</td>\n",
              "      <td>0</td>\n",
              "    </tr>\n",
              "    <tr>\n",
              "      <th>NT_GER</th>\n",
              "      <td>float64</td>\n",
              "      <td>0</td>\n",
              "    </tr>\n",
              "    <tr>\n",
              "      <th>NT_FG</th>\n",
              "      <td>float64</td>\n",
              "      <td>0</td>\n",
              "    </tr>\n",
              "    <tr>\n",
              "      <th>NT_CE</th>\n",
              "      <td>float64</td>\n",
              "      <td>0</td>\n",
              "    </tr>\n",
              "    <tr>\n",
              "      <th>QE_I01</th>\n",
              "      <td>object</td>\n",
              "      <td>0</td>\n",
              "    </tr>\n",
              "    <tr>\n",
              "      <th>QE_I02</th>\n",
              "      <td>object</td>\n",
              "      <td>0</td>\n",
              "    </tr>\n",
              "    <tr>\n",
              "      <th>QE_I03</th>\n",
              "      <td>object</td>\n",
              "      <td>0</td>\n",
              "    </tr>\n",
              "    <tr>\n",
              "      <th>QE_I04</th>\n",
              "      <td>object</td>\n",
              "      <td>0</td>\n",
              "    </tr>\n",
              "    <tr>\n",
              "      <th>QE_I05</th>\n",
              "      <td>object</td>\n",
              "      <td>0</td>\n",
              "    </tr>\n",
              "    <tr>\n",
              "      <th>QE_I06</th>\n",
              "      <td>object</td>\n",
              "      <td>0</td>\n",
              "    </tr>\n",
              "    <tr>\n",
              "      <th>QE_I07</th>\n",
              "      <td>object</td>\n",
              "      <td>0</td>\n",
              "    </tr>\n",
              "    <tr>\n",
              "      <th>QE_I08</th>\n",
              "      <td>object</td>\n",
              "      <td>0</td>\n",
              "    </tr>\n",
              "    <tr>\n",
              "      <th>QE_I09</th>\n",
              "      <td>object</td>\n",
              "      <td>0</td>\n",
              "    </tr>\n",
              "    <tr>\n",
              "      <th>QE_I10</th>\n",
              "      <td>object</td>\n",
              "      <td>0</td>\n",
              "    </tr>\n",
              "    <tr>\n",
              "      <th>QE_I11</th>\n",
              "      <td>object</td>\n",
              "      <td>0</td>\n",
              "    </tr>\n",
              "    <tr>\n",
              "      <th>QE_I12</th>\n",
              "      <td>object</td>\n",
              "      <td>0</td>\n",
              "    </tr>\n",
              "    <tr>\n",
              "      <th>QE_I13</th>\n",
              "      <td>object</td>\n",
              "      <td>0</td>\n",
              "    </tr>\n",
              "    <tr>\n",
              "      <th>QE_I14</th>\n",
              "      <td>object</td>\n",
              "      <td>0</td>\n",
              "    </tr>\n",
              "    <tr>\n",
              "      <th>QE_I15</th>\n",
              "      <td>object</td>\n",
              "      <td>0</td>\n",
              "    </tr>\n",
              "    <tr>\n",
              "      <th>QE_I17</th>\n",
              "      <td>object</td>\n",
              "      <td>0</td>\n",
              "    </tr>\n",
              "    <tr>\n",
              "      <th>QE_I18</th>\n",
              "      <td>object</td>\n",
              "      <td>0</td>\n",
              "    </tr>\n",
              "    <tr>\n",
              "      <th>QE_I21</th>\n",
              "      <td>object</td>\n",
              "      <td>0</td>\n",
              "    </tr>\n",
              "    <tr>\n",
              "      <th>QE_I23</th>\n",
              "      <td>object</td>\n",
              "      <td>0</td>\n",
              "    </tr>\n",
              "  </tbody>\n",
              "</table>\n",
              "</div>"
            ],
            "text/plain": [
              "                   tipos  missing\n",
              "CO_GRUPO           int64        0\n",
              "CO_MODALIDADE      int64        0\n",
              "CO_UF_CURSO        int64        0\n",
              "CO_REGIAO_CURSO    int64        0\n",
              "NU_IDADE           int64        0\n",
              "TP_SEXO           object        0\n",
              "NT_GER           float64        0\n",
              "NT_FG            float64        0\n",
              "NT_CE            float64        0\n",
              "QE_I01            object        0\n",
              "QE_I02            object        0\n",
              "QE_I03            object        0\n",
              "QE_I04            object        0\n",
              "QE_I05            object        0\n",
              "QE_I06            object        0\n",
              "QE_I07            object        0\n",
              "QE_I08            object        0\n",
              "QE_I09            object        0\n",
              "QE_I10            object        0\n",
              "QE_I11            object        0\n",
              "QE_I12            object        0\n",
              "QE_I13            object        0\n",
              "QE_I14            object        0\n",
              "QE_I15            object        0\n",
              "QE_I17            object        0\n",
              "QE_I18            object        0\n",
              "QE_I21            object        0\n",
              "QE_I23            object        0"
            ]
          },
          "metadata": {},
          "execution_count": 40
        }
      ]
    },
    {
      "cell_type": "code",
      "metadata": {
        "id": "P6h6M5u9rbc6",
        "colab": {
          "base_uri": "https://localhost:8080/",
          "height": 649
        },
        "outputId": "4d456e73-ab9b-41c2-f946-a1bf764d66f9"
      },
      "source": [
        "# Tratar variáveis qualitativas\n",
        "data_new['CO_GRUPO'] = data_new['CO_GRUPO'].map({5:'MEDICINA VETERINÁRIA', 6:'ODONTOLOGIA',12:'MEDICINA', 17:'AGRONOMIA',\n",
        "                                                 19:'FARMÁCIA',21:'ARQUITETURA E URBANISMO',23:'ENFERMAGEM',\n",
        "                                                 27:'FONOAUDIOLOGIA',28:'NUTRIÇÃO',36:'FISIOTERAPIA',51:'ZOOTECNIA',\n",
        "                                                 55:'BIOMEDICINA',69:'TECNOLOGIA EM RADIOLOGIA',90:'TECNOLOGIA EM AGRONEGÓCIOS',\n",
        "                                                 91:'TECNOLOGIA EM GESTÃO HOSPITALAR',92:'TECNOLOGIA EM GESTÃO AMBIENTAL',\n",
        "                                                 95:'TECNOLOGIA EM ESTÉTICA E COSMÉTICA',3501:'EDUCAÇÃO FÍSICA (BACHARELADO)',\n",
        "                                                 4003:'ENGENHARIA DA COMPUTAÇÃO',5710:'ENGENHARIA CIVIL',5806:'ENGENHARIA ELÉTRICA',\n",
        "                                                 5814:'ENGENHARIA DE CONTROLE E AUTOMAÇÃO',5902:'ENGENHARIA MECÂNICA',\n",
        "                                                 6002:'ENGENHARIA DE ALIMENTOS',6008:'ENGENHARIA QUÍMICA',6208:'ENGENHARIA DE PRODUÇÃO',\n",
        "                                                 6307:'ENGENHARIA AMBIENTAL',6405:'ENGENHARIA FLORESTAL',6410:'TECNOLOGIA EM SEGURANÇA NO TRABALHO'})\n",
        "data_new['CO_MODALIDADE'] = data_new['CO_MODALIDADE'].map({0:'EaD', 1:'Presencial'})\n",
        "data_new['CO_UF_CURSO'] = data_new['CO_UF_CURSO'].map({11:'Rondônia (RO)',12:'Acre (AC)',13:'Amazonas (AM)',14:'Roraima (RR)',15:'Pará (PA)',\n",
        "                                                       16:'Amapa (AP)',17:'Tocantins (TO)',21:'Maranhão (MA)',22:'Piauí (PI)',23:'Ceará (CE)',\n",
        "                                                       24:'Rio Grande do Norte (RN)',25:'Paraíba (PB)',26:'Pernambuco (PE)',27:'Alagoas (AL)',\n",
        "                                                       28:'Sergipe (SE)',29:'Bahia (BA)',31:'Minas gerais (MG)',32:'Espírito Santo (ES)',\n",
        "                                                       33:'Rio de Janeiro (RJ)',35:'São Paulo (SP)',41:'Paraná (PR)',42:'Santa Catarina (SC)',\n",
        "                                                       43:'Rio Grande do Sul (RS)',50:'Mato Grosso do Sul (MS)',51:'Mato Grosso (MT)',52:'Goiás (GO)',\n",
        "                                                       53:'Distrito federal (DF)'})\n",
        "data_new['CO_REGIAO_CURSO'] = data_new['CO_REGIAO_CURSO'].map({1:'Norte',2:'Nordeste',3:'Sudeste',4:'Sul',5:'Centro-Oeste'})\n",
        "data_new['TP_SEXO'] = data_new['TP_SEXO'].map({'M':'Masculino','F':'Feminino'})\n",
        "data_new['QE_I01'] = data_new['QE_I01'].map({'A':'Solteiro(a)','B':'Casado(a)','C':'Separado(a)','D':'Viúvo','E':'Outro'})\n",
        "data_new['QE_I02'] = data_new['QE_I02'].map({'A':'Branca','B':'Preta','C':'Amarela','D':'Parda','E':'Indígena','F':'Não quero declarar'})\n",
        "data_new['QE_I03'] = data_new['QE_I03'].map({'A':'Brasileira','B':'Brasileira naturalizada','C':'Estrangeira'})\n",
        "data_new['QE_I04'] = data_new['QE_I04'].map({'A':'Nenhuma','B':'Ensino Fundamental I','C':'Ensino Fundamental II','D':'Ensino Médio',\n",
        "                                            'E':'Graduação','F':'Pós-graduação'})\n",
        "data_new['QE_I05'] = data_new['QE_I05'].map({'A':'Nenhuma','B':'Ensino Fundamental I','C':'Ensino Fundamental II','D':'Ensino Médio',\n",
        "                                             'E':'Graduação','F':'Pós-graduação'})\n",
        "data_new['QE_I06'] = data_new['QE_I06'].map({'A':'Em casa ou apartamento, sozinho', 'B':'Em casa ou apartamento, com pais e/ou parentes',\n",
        "                                             'C':'Em casa ou apartamento, com cônjuge e/ou filhos',\n",
        "                                             'D':'Em casa ou apartamento, com outras pessoas (incluindo república)',\n",
        "                                             'E':'Em alojamento universitário da própria instituição',\n",
        "                                             'F':'Em outros tipos de habitação individual ou coletiva (hotel, hospedaria, pensão ou outro)'})\n",
        "data_new['QE_I07'] = data_new['QE_I07'].map({'A':'Nenhuma','B':'Uma','C':'Duas','D':'Três','E':'Quatro','F':'Cinco','G':'Seis','H':'Sete ou mais'})\n",
        "data_new['QE_I08'] = data_new['QE_I08'].map({'A':'Até 1,5 salário mínimo','B':'De 1,5 a 3 salários mínimos','C':'De 3 a 4,5 salários mínimos',\n",
        "                                             'D':'De 4,5 a 6 salários mínimos','E':'De 6 a 10 salários mínimos','F':'De 10 a 30 salários mínimos',\n",
        "                                             'G':'Acima de 30 salários mínimos'})\n",
        "data_new['QE_I09'] = data_new['QE_I09'].map({'A':'Não tenho renda e meus gastos são financiados por programas governamentais',\n",
        "                                             'B':'Não tenho renda e meus gastos são financiados pela minha família ou por outras pessoas',\n",
        "                                             'C':'Tenho renda, mas recebo ajuda da família ou de outras pessoas para financiar meus gastos',\n",
        "                                             'D':'Tenho renda e não preciso de ajuda para financiar meus gastos',\n",
        "                                             'E':'Tenho renda e contribuo com o sustento da família',\n",
        "                                             'F':'Sou o principal responsável pelo sustento da família'})\n",
        "data_new['QE_I10'] = data_new['QE_I10'].map({'A':'Não estou trabalhando','B':'Trabalho eventualmente','C':'Trabalho até 20 horas semanais',\n",
        "                                             'D':'Trabalho de 21 a 39 horas semanais','E':'Trabalho 40 horas semanais ou mais'})\n",
        "data_new['QE_I11'] = data_new['QE_I11'].map({'A':'Nenhum, pois meu curso é gratuito','B':'Nenhum, embora meu curso não seja gratuito',\n",
        "                                             'C':'ProUni integral','D':'ProUni parcial, apenas','E':'FIES, apenas','F':'ProUni Parcial e FIES',\n",
        "                                             'G':'Bolsa oferecida por governo estadual, distrital ou municipal','H':'Bolsa oferecida pela própria instituição',\n",
        "                                             'I':'Bolsa oferecida por outra entidade (empresa, ONG, outra)',\n",
        "                                             'J':'Financiamento oferecido pela própria instituição','K':'Financiamento bancário'})\n",
        "data_new['QE_I12'] = data_new['QE_I12'].map({'A':'Nenhum','B':'Auxílio moradia','C':'Auxílio alimentação','D':'Auxílio moradia e alimentação',\n",
        "                                             'E':'Auxílio Permanência','F':'Outro tipo de auxílio'})\n",
        "data_new['QE_I13'] = data_new['QE_I13'].map({'A':'Nenhum','B':'Bolsa de iniciação científica','C':'Bolsa de extensão',\n",
        "                                             'D':'Bolsa de monitoria/tutoria','E':'Bolsa PET','F':'Outro tipo de bolsa acadêmica'})\n",
        "data_new['QE_I14'] = data_new['QE_I14'].map({'A':'Não participei','B':'Sim, Programa Ciência sem Fronteiras',\n",
        "                                             'C':'Sim, programa de intercâmbio financiado pelo Governo Federal',\n",
        "                                             'D':'Sim, programa de intercâmbio financiado pelo Governo Estadual',\n",
        "                                             'E':'Sim, programa de intercâmbio da minha instituição',\n",
        "                                             'F':'Sim, outro intercâmbio não institucional'})\n",
        "data_new['QE_I15'] = data_new['QE_I15'].map({'A':'Não','B':'Sim, por critério étnico-racial','C':'Sim, por critério de renda',\n",
        "                                             'D':'Sim, por ter estudado em escola pública ou particular com bolsa de estudos',\n",
        "                                             'E':'Sim, por sistema que combina dois ou mais critérios anteriores',\n",
        "                                             'F':'Sim, por sistema diferente dos anteriores'})\n",
        "data_new['QE_I17'] = data_new['QE_I17'].map({'A':'Todo em escola pública','B':'Todo em escola privada','C':'Todo no exterior',\n",
        "                                             'D':'A maior parte em escola pública','E':'A maior parte em escola privada',\n",
        "                                             'F':'Parte no Brasil e parte no exterior'})\n",
        "data_new['QE_I18'] = data_new['QE_I18'].map({'A':'Ensino médio tradicional','B':'Profissionalizante técnico',\n",
        "                                             'C':'Profissionalizante magistério','D':'Educação de Jovens e Adultos (EJA) e/ou Supletivo',\n",
        "                                             'E':'Outro modalidade'})\n",
        "data_new['QE_I21'] = data_new['QE_I21'].map({'A':'Sim','B':'Não'})\n",
        "data_new['QE_I23'] = data_new['QE_I23'].map({'A':'Nenhuma, apenas assisto às aulas','B':'De uma a três','C':'De quatro a sete',\n",
        "                                             'D':'De oito a doze','E':'Mais de doze'})\n",
        "data_new.head()                "
      ],
      "execution_count": 41,
      "outputs": [
        {
          "output_type": "execute_result",
          "data": {
            "text/html": [
              "<div>\n",
              "<style scoped>\n",
              "    .dataframe tbody tr th:only-of-type {\n",
              "        vertical-align: middle;\n",
              "    }\n",
              "\n",
              "    .dataframe tbody tr th {\n",
              "        vertical-align: top;\n",
              "    }\n",
              "\n",
              "    .dataframe thead th {\n",
              "        text-align: right;\n",
              "    }\n",
              "</style>\n",
              "<table border=\"1\" class=\"dataframe\">\n",
              "  <thead>\n",
              "    <tr style=\"text-align: right;\">\n",
              "      <th></th>\n",
              "      <th>CO_GRUPO</th>\n",
              "      <th>CO_MODALIDADE</th>\n",
              "      <th>CO_UF_CURSO</th>\n",
              "      <th>CO_REGIAO_CURSO</th>\n",
              "      <th>NU_IDADE</th>\n",
              "      <th>TP_SEXO</th>\n",
              "      <th>NT_GER</th>\n",
              "      <th>NT_FG</th>\n",
              "      <th>NT_CE</th>\n",
              "      <th>QE_I01</th>\n",
              "      <th>QE_I02</th>\n",
              "      <th>QE_I03</th>\n",
              "      <th>QE_I04</th>\n",
              "      <th>QE_I05</th>\n",
              "      <th>QE_I06</th>\n",
              "      <th>QE_I07</th>\n",
              "      <th>QE_I08</th>\n",
              "      <th>QE_I09</th>\n",
              "      <th>QE_I10</th>\n",
              "      <th>QE_I11</th>\n",
              "      <th>QE_I12</th>\n",
              "      <th>QE_I13</th>\n",
              "      <th>QE_I14</th>\n",
              "      <th>QE_I15</th>\n",
              "      <th>QE_I17</th>\n",
              "      <th>QE_I18</th>\n",
              "      <th>QE_I21</th>\n",
              "      <th>QE_I23</th>\n",
              "    </tr>\n",
              "  </thead>\n",
              "  <tbody>\n",
              "    <tr>\n",
              "      <th>0</th>\n",
              "      <td>ENGENHARIA CIVIL</td>\n",
              "      <td>Presencial</td>\n",
              "      <td>Mato Grosso (MT)</td>\n",
              "      <td>Centro-Oeste</td>\n",
              "      <td>27</td>\n",
              "      <td>Masculino</td>\n",
              "      <td>51.9</td>\n",
              "      <td>36.5</td>\n",
              "      <td>57.0</td>\n",
              "      <td>Outro</td>\n",
              "      <td>Amarela</td>\n",
              "      <td>Brasileira</td>\n",
              "      <td>Ensino Médio</td>\n",
              "      <td>Graduação</td>\n",
              "      <td>Em casa ou apartamento, com cônjuge e/ou filhos</td>\n",
              "      <td>Três</td>\n",
              "      <td>De 1,5 a 3 salários mínimos</td>\n",
              "      <td>Tenho renda, mas recebo ajuda da família ou de...</td>\n",
              "      <td>Não estou trabalhando</td>\n",
              "      <td>Nenhum, pois meu curso é gratuito</td>\n",
              "      <td>Nenhum</td>\n",
              "      <td>Nenhum</td>\n",
              "      <td>Não participei</td>\n",
              "      <td>Não</td>\n",
              "      <td>Todo em escola privada</td>\n",
              "      <td>Ensino médio tradicional</td>\n",
              "      <td>Sim</td>\n",
              "      <td>De oito a doze</td>\n",
              "    </tr>\n",
              "    <tr>\n",
              "      <th>1</th>\n",
              "      <td>ENGENHARIA CIVIL</td>\n",
              "      <td>Presencial</td>\n",
              "      <td>Mato Grosso (MT)</td>\n",
              "      <td>Centro-Oeste</td>\n",
              "      <td>26</td>\n",
              "      <td>Masculino</td>\n",
              "      <td>54.2</td>\n",
              "      <td>44.3</td>\n",
              "      <td>57.5</td>\n",
              "      <td>Solteiro(a)</td>\n",
              "      <td>Branca</td>\n",
              "      <td>Brasileira</td>\n",
              "      <td>Graduação</td>\n",
              "      <td>Ensino Médio</td>\n",
              "      <td>Em casa ou apartamento, com pais e/ou parentes</td>\n",
              "      <td>Uma</td>\n",
              "      <td>De 6 a 10 salários mínimos</td>\n",
              "      <td>Tenho renda, mas recebo ajuda da família ou de...</td>\n",
              "      <td>Não estou trabalhando</td>\n",
              "      <td>Nenhum, pois meu curso é gratuito</td>\n",
              "      <td>Nenhum</td>\n",
              "      <td>Nenhum</td>\n",
              "      <td>Não participei</td>\n",
              "      <td>Não</td>\n",
              "      <td>Todo em escola privada</td>\n",
              "      <td>Ensino médio tradicional</td>\n",
              "      <td>Sim</td>\n",
              "      <td>De oito a doze</td>\n",
              "    </tr>\n",
              "    <tr>\n",
              "      <th>3</th>\n",
              "      <td>ENGENHARIA CIVIL</td>\n",
              "      <td>Presencial</td>\n",
              "      <td>Mato Grosso (MT)</td>\n",
              "      <td>Centro-Oeste</td>\n",
              "      <td>24</td>\n",
              "      <td>Masculino</td>\n",
              "      <td>42.1</td>\n",
              "      <td>49.9</td>\n",
              "      <td>39.5</td>\n",
              "      <td>Solteiro(a)</td>\n",
              "      <td>Parda</td>\n",
              "      <td>Brasileira</td>\n",
              "      <td>Pós-graduação</td>\n",
              "      <td>Pós-graduação</td>\n",
              "      <td>Em casa ou apartamento, com pais e/ou parentes</td>\n",
              "      <td>Duas</td>\n",
              "      <td>De 6 a 10 salários mínimos</td>\n",
              "      <td>Não tenho renda e meus gastos são financiados ...</td>\n",
              "      <td>Não estou trabalhando</td>\n",
              "      <td>Nenhum, pois meu curso é gratuito</td>\n",
              "      <td>Nenhum</td>\n",
              "      <td>Nenhum</td>\n",
              "      <td>Não participei</td>\n",
              "      <td>Não</td>\n",
              "      <td>Todo em escola privada</td>\n",
              "      <td>Ensino médio tradicional</td>\n",
              "      <td>Sim</td>\n",
              "      <td>De oito a doze</td>\n",
              "    </tr>\n",
              "    <tr>\n",
              "      <th>5</th>\n",
              "      <td>ENGENHARIA CIVIL</td>\n",
              "      <td>Presencial</td>\n",
              "      <td>Mato Grosso (MT)</td>\n",
              "      <td>Centro-Oeste</td>\n",
              "      <td>26</td>\n",
              "      <td>Masculino</td>\n",
              "      <td>49.3</td>\n",
              "      <td>40.3</td>\n",
              "      <td>52.3</td>\n",
              "      <td>Solteiro(a)</td>\n",
              "      <td>Branca</td>\n",
              "      <td>Brasileira</td>\n",
              "      <td>Graduação</td>\n",
              "      <td>Graduação</td>\n",
              "      <td>Em casa ou apartamento, com outras pessoas (in...</td>\n",
              "      <td>Nenhuma</td>\n",
              "      <td>De 3 a 4,5 salários mínimos</td>\n",
              "      <td>Tenho renda, mas recebo ajuda da família ou de...</td>\n",
              "      <td>Trabalho de 21 a 39 horas semanais</td>\n",
              "      <td>Nenhum, pois meu curso é gratuito</td>\n",
              "      <td>Nenhum</td>\n",
              "      <td>Nenhum</td>\n",
              "      <td>Não participei</td>\n",
              "      <td>Não</td>\n",
              "      <td>Todo em escola privada</td>\n",
              "      <td>Ensino médio tradicional</td>\n",
              "      <td>Sim</td>\n",
              "      <td>Mais de doze</td>\n",
              "    </tr>\n",
              "    <tr>\n",
              "      <th>6</th>\n",
              "      <td>ENGENHARIA CIVIL</td>\n",
              "      <td>Presencial</td>\n",
              "      <td>Mato Grosso (MT)</td>\n",
              "      <td>Centro-Oeste</td>\n",
              "      <td>24</td>\n",
              "      <td>Masculino</td>\n",
              "      <td>49.6</td>\n",
              "      <td>59.6</td>\n",
              "      <td>46.2</td>\n",
              "      <td>Solteiro(a)</td>\n",
              "      <td>Branca</td>\n",
              "      <td>Brasileira</td>\n",
              "      <td>Graduação</td>\n",
              "      <td>Graduação</td>\n",
              "      <td>Em casa ou apartamento, com pais e/ou parentes</td>\n",
              "      <td>Uma</td>\n",
              "      <td>De 6 a 10 salários mínimos</td>\n",
              "      <td>Não tenho renda e meus gastos são financiados ...</td>\n",
              "      <td>Não estou trabalhando</td>\n",
              "      <td>Nenhum, pois meu curso é gratuito</td>\n",
              "      <td>Nenhum</td>\n",
              "      <td>Nenhum</td>\n",
              "      <td>Não participei</td>\n",
              "      <td>Não</td>\n",
              "      <td>Todo em escola privada</td>\n",
              "      <td>Ensino médio tradicional</td>\n",
              "      <td>Sim</td>\n",
              "      <td>De quatro a sete</td>\n",
              "    </tr>\n",
              "  </tbody>\n",
              "</table>\n",
              "</div>"
            ],
            "text/plain": [
              "           CO_GRUPO CO_MODALIDADE  ... QE_I21            QE_I23\n",
              "0  ENGENHARIA CIVIL    Presencial  ...    Sim    De oito a doze\n",
              "1  ENGENHARIA CIVIL    Presencial  ...    Sim    De oito a doze\n",
              "3  ENGENHARIA CIVIL    Presencial  ...    Sim    De oito a doze\n",
              "5  ENGENHARIA CIVIL    Presencial  ...    Sim      Mais de doze\n",
              "6  ENGENHARIA CIVIL    Presencial  ...    Sim  De quatro a sete\n",
              "\n",
              "[5 rows x 28 columns]"
            ]
          },
          "metadata": {},
          "execution_count": 41
        }
      ]
    },
    {
      "cell_type": "markdown",
      "metadata": {
        "id": "eJZfo5Vxwdzl"
      },
      "source": [
        "*Análise de Dados*"
      ]
    },
    {
      "cell_type": "code",
      "metadata": {
        "colab": {
          "base_uri": "https://localhost:8080/",
          "height": 1000
        },
        "id": "E0sv9Kcmwgj3",
        "outputId": "1abae39d-4148-4f9a-872e-838c3b2a220c"
      },
      "source": [
        "# Análise das variáveis categóricas \n",
        "## Distribuição dos Alunos por curso:\n",
        "sns.countplot(data_new['CO_GRUPO'],order = data_new['CO_GRUPO'].value_counts().index)\n",
        "plt.title('Alunos por Curso')\n",
        "plt.xlabel('Curso')\n",
        "plt.xticks(rotation=90)\n",
        "plt.ylabel('Quantidade de alunos')\n",
        "plt.show()\n",
        "print('Distribuição percentual dos alunos por curso:')\n",
        "data_new['CO_GRUPO'].value_counts()/data_new.shape[0]*100\n"
      ],
      "execution_count": 68,
      "outputs": [
        {
          "output_type": "stream",
          "name": "stderr",
          "text": [
            "/usr/local/lib/python3.7/dist-packages/seaborn/_decorators.py:43: FutureWarning: Pass the following variable as a keyword arg: x. From version 0.12, the only valid positional argument will be `data`, and passing other arguments without an explicit keyword will result in an error or misinterpretation.\n",
            "  FutureWarning\n"
          ]
        },
        {
          "output_type": "display_data",
          "data": {
            "image/png": "[encoded data removed]",
            "text/plain": [
              "<Figure size 432x288 with 1 Axes>"
            ]
          },
          "metadata": {
            "needs_background": "light"
          }
        },
        {
          "output_type": "stream",
          "name": "stdout",
          "text": [
            "Distribuição percentual dos alunos por curso:\n"
          ]
        },
        {
          "output_type": "execute_result",
          "data": {
            "text/plain": [
              "ENGENHARIA CIVIL                       13.079319\n",
              "ENFERMAGEM                              9.818909\n",
              "EDUCAÇÃO FÍSICA (BACHARELADO)           8.141541\n",
              "ARQUITETURA E URBANISMO                 7.350020\n",
              "ENGENHARIA DE PRODUÇÃO                  6.084817\n",
              "FISIOTERAPIA                            5.522960\n",
              "MEDICINA                                5.290733\n",
              "NUTRIÇÃO                                5.236905\n",
              "ENGENHARIA MECÂNICA                     4.824228\n",
              "ODONTOLOGIA                             4.372076\n",
              "FARMÁCIA                                4.264934\n",
              "ENGENHARIA ELÉTRICA                     4.186756\n",
              "MEDICINA VETERINÁRIA                    3.524677\n",
              "AGRONOMIA                               3.499045\n",
              "BIOMEDICINA                             2.662668\n",
              "ENGENHARIA QUÍMICA                      1.907801\n",
              "ENGENHARIA AMBIENTAL                    1.872685\n",
              "TECNOLOGIA EM ESTÉTICA E COSMÉTICA      1.354659\n",
              "ENGENHARIA DE CONTROLE E AUTOMAÇÃO      1.209838\n",
              "ENGENHARIA DA COMPUTAÇÃO                1.078857\n",
              "TECNOLOGIA EM GESTÃO AMBIENTAL          1.025030\n",
              "ZOOTECNIA                               0.680021\n",
              "TECNOLOGIA EM RADIOLOGIA                0.663360\n",
              "FONOAUDIOLOGIA                          0.622861\n",
              "ENGENHARIA FLORESTAL                    0.476245\n",
              "ENGENHARIA DE ALIMENTOS                 0.428826\n",
              "TECNOLOGIA EM AGRONEGÓCIOS              0.382432\n",
              "TECNOLOGIA EM GESTÃO HOSPITALAR         0.306048\n",
              "TECNOLOGIA EM SEGURANÇA NO TRABALHO     0.131749\n",
              "Name: CO_GRUPO, dtype: float64"
            ]
          },
          "metadata": {},
          "execution_count": 68
        }
      ]
    },
    {
      "cell_type": "code",
      "metadata": {
        "colab": {
          "base_uri": "https://localhost:8080/",
          "height": 417
        },
        "id": "n6KsfIlJQr-s",
        "outputId": "2f351696-7629-4672-d22b-ba98a6e2f3ef"
      },
      "source": [
        "## Distribuição dos Alunos por modalidade:\n",
        "sns.countplot(data_new['CO_MODALIDADE'],order = data_new['CO_MODALIDADE'].value_counts().index)\n",
        "plt.title('Alunos por Modalidade')\n",
        "plt.xlabel('Modalidade')\n",
        "plt.ylabel('Quantidade de alunos')\n",
        "plt.show()\n",
        "print('Distribuição percentual dos alunos por modalidade:')\n",
        "data_new['CO_MODALIDADE'].value_counts()/data_new.shape[0]*100"
      ],
      "execution_count": 70,
      "outputs": [
        {
          "output_type": "stream",
          "name": "stderr",
          "text": [
            "/usr/local/lib/python3.7/dist-packages/seaborn/_decorators.py:43: FutureWarning: Pass the following variable as a keyword arg: x. From version 0.12, the only valid positional argument will be `data`, and passing other arguments without an explicit keyword will result in an error or misinterpretation.\n",
            "  FutureWarning\n"
          ]
        },
        {
          "output_type": "display_data",
          "data": {
            "image/png": "[encoded data removed]",
            "text/plain": [
              "<Figure size 432x288 with 1 Axes>"
            ]
          },
          "metadata": {
            "needs_background": "light"
          }
        },
        {
          "output_type": "stream",
          "name": "stdout",
          "text": [
            "Distribuição percentual dos alunos por modalidade:\n"
          ]
        },
        {
          "output_type": "execute_result",
          "data": {
            "text/plain": [
              "Presencial    95.341356\n",
              "EaD            4.658644\n",
              "Name: CO_MODALIDADE, dtype: float64"
            ]
          },
          "metadata": {},
          "execution_count": 70
        }
      ]
    },
    {
      "cell_type": "code",
      "metadata": {
        "colab": {
          "base_uri": "https://localhost:8080/",
          "height": 468
        },
        "id": "MQPm3ME7Quiz",
        "outputId": "0677aab6-b6ae-4ae0-c5cc-79c259f56f62"
      },
      "source": [
        "## Distribuição dos Alunos por região:\n",
        "sns.countplot(data_new['CO_REGIAO_CURSO'],order = data_new['CO_REGIAO_CURSO'].value_counts().index)\n",
        "plt.title('Alunos por Região')\n",
        "plt.xlabel('Região')\n",
        "plt.ylabel('Quantidade de alunos')\n",
        "plt.show()\n",
        "print('Distribuição percentual dos alunos por região:')\n",
        "data_new['CO_REGIAO_CURSO'].value_counts()/data_new.shape[0]*100"
      ],
      "execution_count": 71,
      "outputs": [
        {
          "output_type": "stream",
          "name": "stderr",
          "text": [
            "/usr/local/lib/python3.7/dist-packages/seaborn/_decorators.py:43: FutureWarning: Pass the following variable as a keyword arg: x. From version 0.12, the only valid positional argument will be `data`, and passing other arguments without an explicit keyword will result in an error or misinterpretation.\n",
            "  FutureWarning\n"
          ]
        },
        {
          "output_type": "display_data",
          "data": {
            "image/png": "[encoded data removed]",
            "text/plain": [
              "<Figure size 432x288 with 1 Axes>"
            ]
          },
          "metadata": {
            "needs_background": "light"
          }
        },
        {
          "output_type": "stream",
          "name": "stdout",
          "text": [
            "Distribuição percentual dos alunos por região:\n"
          ]
        },
        {
          "output_type": "execute_result",
          "data": {
            "text/plain": [
              "Sudeste         46.268343\n",
              "Nordeste        21.260333\n",
              "Sul             17.941225\n",
              "Centro-Oeste     7.886757\n",
              "Norte            6.643341\n",
              "Name: CO_REGIAO_CURSO, dtype: float64"
            ]
          },
          "metadata": {},
          "execution_count": 71
        }
      ]
    },
    {
      "cell_type": "code",
      "metadata": {
        "colab": {
          "base_uri": "https://localhost:8080/",
          "height": 417
        },
        "id": "bmLfEZHGQxUM",
        "outputId": "4833e4f4-547e-4496-bbb8-67f4bb828585"
      },
      "source": [
        "## Distribuição dos Alunos por gênero:\n",
        "sns.countplot(data_new['TP_SEXO'],order = data_new['TP_SEXO'].value_counts().index)\n",
        "plt.title('Alunos por gênero')\n",
        "plt.xlabel('Gênero')\n",
        "plt.ylabel('Quantidade de alunos')\n",
        "plt.show()\n",
        "print('Distribuição percentual dos alunos por gênero:')\n",
        "data_new['TP_SEXO'].value_counts()/data_new.shape[0]*100"
      ],
      "execution_count": 72,
      "outputs": [
        {
          "output_type": "stream",
          "name": "stderr",
          "text": [
            "/usr/local/lib/python3.7/dist-packages/seaborn/_decorators.py:43: FutureWarning: Pass the following variable as a keyword arg: x. From version 0.12, the only valid positional argument will be `data`, and passing other arguments without an explicit keyword will result in an error or misinterpretation.\n",
            "  FutureWarning\n"
          ]
        },
        {
          "output_type": "display_data",
          "data": {
            "image/png": "[encoded data removed]",
            "text/plain": [
              "<Figure size 432x288 with 1 Axes>"
            ]
          },
          "metadata": {
            "needs_background": "light"
          }
        },
        {
          "output_type": "stream",
          "name": "stdout",
          "text": [
            "Distribuição percentual dos alunos por gênero:\n"
          ]
        },
        {
          "output_type": "execute_result",
          "data": {
            "text/plain": [
              "Feminino     55.037615\n",
              "Masculino    44.962385\n",
              "Name: TP_SEXO, dtype: float64"
            ]
          },
          "metadata": {},
          "execution_count": 72
        }
      ]
    },
    {
      "cell_type": "code",
      "metadata": {
        "colab": {
          "base_uri": "https://localhost:8080/",
          "height": 468
        },
        "id": "i3Ph8nj4Q0T7",
        "outputId": "11571a8d-cb1f-4cc8-efc3-f1084a49122a"
      },
      "source": [
        "## Distribuição dos Alunos por estado civil:\n",
        "sns.countplot(data_new['QE_I01'],order = data_new['QE_I01'].value_counts().index)\n",
        "plt.title('Alunos por Estado Civil')\n",
        "plt.xlabel('Estado Civil')\n",
        "plt.ylabel('Quantidade de alunos')\n",
        "plt.show()\n",
        "print('Distribuição percentual dos alunos por estado civil:')\n",
        "data_new['QE_I01'].value_counts()/data_new.shape[0]*100"
      ],
      "execution_count": 73,
      "outputs": [
        {
          "output_type": "stream",
          "name": "stderr",
          "text": [
            "/usr/local/lib/python3.7/dist-packages/seaborn/_decorators.py:43: FutureWarning: Pass the following variable as a keyword arg: x. From version 0.12, the only valid positional argument will be `data`, and passing other arguments without an explicit keyword will result in an error or misinterpretation.\n",
            "  FutureWarning\n"
          ]
        },
        {
          "output_type": "display_data",
          "data": {
            "image/png": "[encoded data removed]",
            "text/plain": [
              "<Figure size 432x288 with 1 Axes>"
            ]
          },
          "metadata": {
            "needs_background": "light"
          }
        },
        {
          "output_type": "stream",
          "name": "stdout",
          "text": [
            "Distribuição percentual dos alunos por estado civil:\n"
          ]
        },
        {
          "output_type": "execute_result",
          "data": {
            "text/plain": [
              "Solteiro(a)    80.030246\n",
              "Casado(a)      15.146808\n",
              "Outro           2.469145\n",
              "Separado(a)     2.031348\n",
              "Viúvo           0.160457\n",
              "Name: QE_I01, dtype: float64"
            ]
          },
          "metadata": {},
          "execution_count": 73
        }
      ]
    },
    {
      "cell_type": "code",
      "metadata": {
        "colab": {
          "base_uri": "https://localhost:8080/",
          "height": 571
        },
        "id": "VTe2GNt-Q36M",
        "outputId": "97c665fa-245e-4d8c-ddc9-84ab87ab87ac"
      },
      "source": [
        "## Distribuição dos Alunos por etnia:\n",
        "sns.countplot(data_new['QE_I02'],order = data_new['QE_I02'].value_counts().index)\n",
        "plt.title('Alunos por Etnia')\n",
        "plt.xlabel('Etnia')\n",
        "plt.xticks(rotation=90)\n",
        "plt.ylabel('Quantidade de alunos')\n",
        "plt.show()\n",
        "print('Distribuição percentual dos alunos por etnia:')\n",
        "data_new['QE_I02'].value_counts()/data_new.shape[0]*100"
      ],
      "execution_count": 75,
      "outputs": [
        {
          "output_type": "stream",
          "name": "stderr",
          "text": [
            "/usr/local/lib/python3.7/dist-packages/seaborn/_decorators.py:43: FutureWarning: Pass the following variable as a keyword arg: x. From version 0.12, the only valid positional argument will be `data`, and passing other arguments without an explicit keyword will result in an error or misinterpretation.\n",
            "  FutureWarning\n"
          ]
        },
        {
          "output_type": "display_data",
          "data": {
            "image/png": "[encoded data removed]",
            "text/plain": [
              "<Figure size 432x288 with 1 Axes>"
            ]
          },
          "metadata": {
            "needs_background": "light"
          }
        },
        {
          "output_type": "stream",
          "name": "stdout",
          "text": [
            "Distribuição percentual dos alunos por etnia:\n"
          ]
        },
        {
          "output_type": "execute_result",
          "data": {
            "text/plain": [
              "Branca                54.044113\n",
              "Parda                 33.206454\n",
              "Preta                  8.015943\n",
              "Amarela                2.458892\n",
              "Não quero declarar     1.799890\n",
              "Indígena               0.312456\n",
              "Name: QE_I02, dtype: float64"
            ]
          },
          "metadata": {},
          "execution_count": 75
        }
      ]
    },
    {
      "cell_type": "code",
      "metadata": {
        "colab": {
          "base_uri": "https://localhost:8080/",
          "height": 642
        },
        "id": "n5AUUH2MQ626",
        "outputId": "4261123a-c6e5-45d4-9a97-cb19554210fd"
      },
      "source": [
        "## Distribuição dos Alunos por rendimento familiar:\n",
        "sns.countplot(data_new['QE_I08'],order = data_new['QE_I08'].value_counts().index)\n",
        "plt.title('Alunos por Renda Familiar')\n",
        "plt.xlabel('Renda Familiar')\n",
        "plt.xticks(rotation=90)\n",
        "plt.ylabel('Quantidade de alunos')\n",
        "plt.show()\n",
        "print('Distribuição percentual dos alunos por renda familiar:')\n",
        "data_new['QE_I08'].value_counts()/data_new.shape[0]*100"
      ],
      "execution_count": 79,
      "outputs": [
        {
          "output_type": "stream",
          "name": "stderr",
          "text": [
            "/usr/local/lib/python3.7/dist-packages/seaborn/_decorators.py:43: FutureWarning: Pass the following variable as a keyword arg: x. From version 0.12, the only valid positional argument will be `data`, and passing other arguments without an explicit keyword will result in an error or misinterpretation.\n",
            "  FutureWarning\n"
          ]
        },
        {
          "output_type": "display_data",
          "data": {
            "image/png": "[encoded data removed]",
            "text/plain": [
              "<Figure size 432x288 with 1 Axes>"
            ]
          },
          "metadata": {
            "needs_background": "light"
          }
        },
        {
          "output_type": "stream",
          "name": "stdout",
          "text": [
            "Distribuição percentual dos alunos por renda familiar:\n"
          ]
        },
        {
          "output_type": "execute_result",
          "data": {
            "text/plain": [
              "De 1,5 a 3 salários mínimos     27.932382\n",
              "De 3 a 4,5 salários mínimos     20.352186\n",
              "Até 1,5 salário mínimo          17.989670\n",
              "De 6 a 10 salários mínimos      12.278827\n",
              "De 4,5 a 6 salários mínimos     11.531137\n",
              "De 10 a 30 salários mínimos      8.122317\n",
              "Acima de 30 salários mínimos     1.630974\n",
              "Name: QE_I08, dtype: float64"
            ]
          },
          "metadata": {},
          "execution_count": 79
        }
      ]
    },
    {
      "cell_type": "code",
      "metadata": {
        "colab": {
          "base_uri": "https://localhost:8080/",
          "height": 641
        },
        "id": "7idI2e8CQ9W8",
        "outputId": "33e033e0-d16c-47ce-bad2-5ed80248c0a9"
      },
      "source": [
        "## Distribuição dos Alunos por situação de trabalho:\n",
        "sns.countplot(data_new['QE_I10'],order = data_new['QE_I10'].value_counts().index)\n",
        "plt.title('Alunos por Situação de Trabalho')\n",
        "plt.xlabel('Situação de Trabalho')\n",
        "plt.xticks(rotation=90)\n",
        "plt.ylabel('Quantidade de alunos')\n",
        "plt.show()\n",
        "print('Distribuição percentual dos alunos por situação de trabalho:')\n",
        "data_new['QE_I10'].value_counts()/data_new.shape[0]*100"
      ],
      "execution_count": 81,
      "outputs": [
        {
          "output_type": "stream",
          "name": "stderr",
          "text": [
            "/usr/local/lib/python3.7/dist-packages/seaborn/_decorators.py:43: FutureWarning: Pass the following variable as a keyword arg: x. From version 0.12, the only valid positional argument will be `data`, and passing other arguments without an explicit keyword will result in an error or misinterpretation.\n",
            "  FutureWarning\n"
          ]
        },
        {
          "output_type": "display_data",
          "data": {
            "image/png": "[encoded data removed]",
            "text/plain": [
              "<Figure size 432x288 with 1 Axes>"
            ]
          },
          "metadata": {
            "needs_background": "light"
          }
        },
        {
          "output_type": "stream",
          "name": "stdout",
          "text": [
            "Distribuição percentual dos alunos por situação de trabalho:\n"
          ]
        },
        {
          "output_type": "execute_result",
          "data": {
            "text/plain": [
              "Não estou trabalhando                 50.230049\n",
              "Trabalho 40 horas semanais ou mais    26.359850\n",
              "Trabalho de 21 a 39 horas semanais     9.967575\n",
              "Trabalho eventualmente                 8.001333\n",
              "Trabalho até 20 horas semanais         5.279198\n",
              "Name: QE_I10, dtype: float64"
            ]
          },
          "metadata": {},
          "execution_count": 81
        }
      ]
    },
    {
      "cell_type": "code",
      "metadata": {
        "colab": {
          "base_uri": "https://localhost:8080/",
          "height": 856
        },
        "id": "A51lxBerQ_Bj",
        "outputId": "3c12a51a-c42a-455e-e934-a5118a0a44cf"
      },
      "source": [
        "## Distribuição dos Alunos por forma de ingresso:\n",
        "sns.countplot(data_new['QE_I15'],order = data_new['QE_I15'].value_counts().index)\n",
        "plt.title('Alunos por Forma de Ingresso')\n",
        "plt.xlabel('Forma de Ingresso')\n",
        "plt.xticks(rotation=90)\n",
        "plt.ylabel('Quantidade de alunos')\n",
        "plt.show()\n",
        "print('Distribuição percentual dos alunos por forma de ingresso:')\n",
        "data_new['QE_I15'].value_counts()/data_new.shape[0]*100"
      ],
      "execution_count": 82,
      "outputs": [
        {
          "output_type": "stream",
          "name": "stderr",
          "text": [
            "/usr/local/lib/python3.7/dist-packages/seaborn/_decorators.py:43: FutureWarning: Pass the following variable as a keyword arg: x. From version 0.12, the only valid positional argument will be `data`, and passing other arguments without an explicit keyword will result in an error or misinterpretation.\n",
            "  FutureWarning\n"
          ]
        },
        {
          "output_type": "display_data",
          "data": {
            "image/png": "[encoded data removed]",
            "text/plain": [
              "<Figure size 432x288 with 1 Axes>"
            ]
          },
          "metadata": {
            "needs_background": "light"
          }
        },
        {
          "output_type": "stream",
          "name": "stdout",
          "text": [
            "Distribuição percentual dos alunos por forma de ingresso:\n"
          ]
        },
        {
          "output_type": "execute_result",
          "data": {
            "text/plain": [
              "Não                                                                           75.781973\n",
              "Sim, por ter estudado em escola pública ou particular com bolsa de estudos     8.782088\n",
              "Sim, por critério de renda                                                     6.306279\n",
              "Sim, por sistema que combina dois ou mais critérios anteriores                 5.930511\n",
              "Sim, por sistema diferente dos anteriores                                      1.599703\n",
              "Sim, por critério étnico-racial                                                1.436938\n",
              "Name: QE_I15, dtype: float64"
            ]
          },
          "metadata": {},
          "execution_count": 82
        }
      ]
    },
    {
      "cell_type": "code",
      "metadata": {
        "colab": {
          "base_uri": "https://localhost:8080/",
          "height": 631
        },
        "id": "RSkV8usjRAy5",
        "outputId": "4db5282d-8fc2-42dc-98c2-413f90281761"
      },
      "source": [
        "## Distribuição dos Alunos por forma de horas semanais de estudo:\n",
        "sns.countplot(data_new['QE_I23'],order = data_new['QE_I23'].value_counts().index)\n",
        "plt.title('Alunos por Horas Semanais de Estudo')\n",
        "plt.xlabel('Horas Semanais de Estudo')\n",
        "plt.xticks(rotation=90)\n",
        "plt.ylabel('Quantidade de alunos')\n",
        "plt.show()\n",
        "print('Distribuição percentual dos alunos por horas semanais de estudo:')\n",
        "data_new['QE_I23'].value_counts()/data_new.shape[0]*100"
      ],
      "execution_count": 84,
      "outputs": [
        {
          "output_type": "stream",
          "name": "stderr",
          "text": [
            "/usr/local/lib/python3.7/dist-packages/seaborn/_decorators.py:43: FutureWarning: Pass the following variable as a keyword arg: x. From version 0.12, the only valid positional argument will be `data`, and passing other arguments without an explicit keyword will result in an error or misinterpretation.\n",
            "  FutureWarning\n"
          ]
        },
        {
          "output_type": "display_data",
          "data": {
            "image/png": "[encoded data removed]",
            "text/plain": [
              "<Figure size 432x288 with 1 Axes>"
            ]
          },
          "metadata": {
            "needs_background": "light"
          }
        },
        {
          "output_type": "stream",
          "name": "stdout",
          "text": [
            "Distribuição percentual dos alunos por horas semanais de estudo:\n"
          ]
        },
        {
          "output_type": "execute_result",
          "data": {
            "text/plain": [
              "De uma a três                       39.431735\n",
              "De quatro a sete                    30.174683\n",
              "De oito a doze                      13.648096\n",
              "Mais de doze                        13.059582\n",
              "Nenhuma, apenas assisto às aulas     3.523139\n",
              "Name: QE_I23, dtype: float64"
            ]
          },
          "metadata": {},
          "execution_count": 84
        }
      ]
    },
    {
      "cell_type": "code",
      "metadata": {
        "colab": {
          "base_uri": "https://localhost:8080/",
          "height": 297
        },
        "id": "3EU0WbxLNk4e",
        "outputId": "170dde46-69ed-42ef-ca9d-3780bfb54e6e"
      },
      "source": [
        "# Análise das variáveis quantitativas\n",
        "## Análise de estatística descritiva\n",
        "data_new.describe()"
      ],
      "execution_count": 96,
      "outputs": [
        {
          "output_type": "execute_result",
          "data": {
            "text/html": [
              "<div>\n",
              "<style scoped>\n",
              "    .dataframe tbody tr th:only-of-type {\n",
              "        vertical-align: middle;\n",
              "    }\n",
              "\n",
              "    .dataframe tbody tr th {\n",
              "        vertical-align: top;\n",
              "    }\n",
              "\n",
              "    .dataframe thead th {\n",
              "        text-align: right;\n",
              "    }\n",
              "</style>\n",
              "<table border=\"1\" class=\"dataframe\">\n",
              "  <thead>\n",
              "    <tr style=\"text-align: right;\">\n",
              "      <th></th>\n",
              "      <th>NU_IDADE</th>\n",
              "      <th>NT_GER</th>\n",
              "      <th>NT_FG</th>\n",
              "      <th>NT_CE</th>\n",
              "    </tr>\n",
              "  </thead>\n",
              "  <tbody>\n",
              "    <tr>\n",
              "      <th>count</th>\n",
              "      <td>390135.000000</td>\n",
              "      <td>390135.000000</td>\n",
              "      <td>390135.000000</td>\n",
              "      <td>390135.000000</td>\n",
              "    </tr>\n",
              "    <tr>\n",
              "      <th>mean</th>\n",
              "      <td>27.382542</td>\n",
              "      <td>44.080390</td>\n",
              "      <td>39.838931</td>\n",
              "      <td>45.477586</td>\n",
              "    </tr>\n",
              "    <tr>\n",
              "      <th>std</th>\n",
              "      <td>6.369682</td>\n",
              "      <td>14.545807</td>\n",
              "      <td>16.241311</td>\n",
              "      <td>16.646806</td>\n",
              "    </tr>\n",
              "    <tr>\n",
              "      <th>min</th>\n",
              "      <td>11.000000</td>\n",
              "      <td>0.000000</td>\n",
              "      <td>0.000000</td>\n",
              "      <td>0.000000</td>\n",
              "    </tr>\n",
              "    <tr>\n",
              "      <th>25%</th>\n",
              "      <td>23.000000</td>\n",
              "      <td>33.200000</td>\n",
              "      <td>28.500000</td>\n",
              "      <td>32.900000</td>\n",
              "    </tr>\n",
              "    <tr>\n",
              "      <th>50%</th>\n",
              "      <td>25.000000</td>\n",
              "      <td>43.800000</td>\n",
              "      <td>39.300000</td>\n",
              "      <td>45.200000</td>\n",
              "    </tr>\n",
              "    <tr>\n",
              "      <th>75%</th>\n",
              "      <td>29.000000</td>\n",
              "      <td>54.800000</td>\n",
              "      <td>51.300000</td>\n",
              "      <td>57.800000</td>\n",
              "    </tr>\n",
              "    <tr>\n",
              "      <th>max</th>\n",
              "      <td>86.000000</td>\n",
              "      <td>93.000000</td>\n",
              "      <td>97.800000</td>\n",
              "      <td>100.000000</td>\n",
              "    </tr>\n",
              "  </tbody>\n",
              "</table>\n",
              "</div>"
            ],
            "text/plain": [
              "            NU_IDADE         NT_GER          NT_FG          NT_CE\n",
              "count  390135.000000  390135.000000  390135.000000  390135.000000\n",
              "mean       27.382542      44.080390      39.838931      45.477586\n",
              "std         6.369682      14.545807      16.241311      16.646806\n",
              "min        11.000000       0.000000       0.000000       0.000000\n",
              "25%        23.000000      33.200000      28.500000      32.900000\n",
              "50%        25.000000      43.800000      39.300000      45.200000\n",
              "75%        29.000000      54.800000      51.300000      57.800000\n",
              "max        86.000000      93.000000      97.800000     100.000000"
            ]
          },
          "metadata": {},
          "execution_count": 96
        }
      ]
    },
    {
      "cell_type": "code",
      "metadata": {
        "colab": {
          "base_uri": "https://localhost:8080/",
          "height": 285
        },
        "id": "m86FxqHPgfAY",
        "outputId": "b4988187-5d39-478c-b241-d2fa90cf6003"
      },
      "source": [
        "## Boxplot da idade dos alunos\n",
        "sns.boxplot(y=data_new.NU_IDADE).set(ylabel='Idade')\n",
        "plt.title('BoxPlot da Idade dos Alunos')"
      ],
      "execution_count": 98,
      "outputs": [
        {
          "output_type": "execute_result",
          "data": {
            "text/plain": [
              "Text(0.5, 1.0, 'BoxPlot da Idade dos Alunos')"
            ]
          },
          "metadata": {},
          "execution_count": 98
        },
        {
          "output_type": "display_data",
          "data": {
            "image/png": "[encoded data removed]",
            "text/plain": [
              "<Figure size 432x288 with 1 Axes>"
            ]
          },
          "metadata": {
            "needs_background": "light"
          }
        }
      ]
    },
    {
      "cell_type": "code",
      "metadata": {
        "colab": {
          "base_uri": "https://localhost:8080/",
          "height": 285
        },
        "id": "kQ1itWJsh9Fi",
        "outputId": "356ad52d-5b08-4f32-b977-a5ed370fdbf5"
      },
      "source": [
        "## Boxplot da Nota Geral dos Alunos\n",
        "sns.boxplot(y=data_new.NT_GER).set(ylabel='Nota Geral')\n",
        "plt.title('BoxPlot da Nota Geral dos Alunos')"
      ],
      "execution_count": 99,
      "outputs": [
        {
          "output_type": "execute_result",
          "data": {
            "text/plain": [
              "Text(0.5, 1.0, 'BoxPlot da Nota Geral dos Alunos')"
            ]
          },
          "metadata": {},
          "execution_count": 99
        },
        {
          "output_type": "display_data",
          "data": {
            "image/png": "[encoded data removed]",
            "text/plain": [
              "<Figure size 432x288 with 1 Axes>"
            ]
          },
          "metadata": {
            "needs_background": "light"
          }
        }
      ]
    },
    {
      "cell_type": "code",
      "metadata": {
        "colab": {
          "base_uri": "https://localhost:8080/",
          "height": 285
        },
        "id": "aFjzSdJdiHki",
        "outputId": "9eca31b9-4666-49f9-ca8f-66933a6cb798"
      },
      "source": [
        "## Boxplot da Nota de Formação Geral dos Alunos\n",
        "sns.boxplot(y=data_new.NT_FG).set(ylabel='Nota Formação Geral')\n",
        "plt.title('BoxPlot da Nota Formação Geral dos Alunos')"
      ],
      "execution_count": 100,
      "outputs": [
        {
          "output_type": "execute_result",
          "data": {
            "text/plain": [
              "Text(0.5, 1.0, 'BoxPlot da Nota Formação Geral dos Alunos')"
            ]
          },
          "metadata": {},
          "execution_count": 100
        },
        {
          "output_type": "display_data",
          "data": {
            "image/png": "[encoded data removed]",
            "text/plain": [
              "<Figure size 432x288 with 1 Axes>"
            ]
          },
          "metadata": {
            "needs_background": "light"
          }
        }
      ]
    },
    {
      "cell_type": "code",
      "metadata": {
        "colab": {
          "base_uri": "https://localhost:8080/",
          "height": 285
        },
        "id": "tnS_nTi8ibOF",
        "outputId": "d24f627a-f7e5-4708-c486-32071295439e"
      },
      "source": [
        "## Boxplot da Nota de Componente Específico dos Alunos\n",
        "sns.boxplot(y=data_new.NT_CE).set(ylabel='Nota Componente Específico')\n",
        "plt.title('BoxPlot da Nota Componente Específico dos Alunos')"
      ],
      "execution_count": 101,
      "outputs": [
        {
          "output_type": "execute_result",
          "data": {
            "text/plain": [
              "Text(0.5, 1.0, 'BoxPlot da Nota Componente Específico dos Alunos')"
            ]
          },
          "metadata": {},
          "execution_count": 101
        },
        {
          "output_type": "display_data",
          "data": {
            "image/png": "[encoded data removed]",
            "text/plain": [
              "<Figure size 432x288 with 1 Axes>"
            ]
          },
          "metadata": {
            "needs_background": "light"
          }
        }
      ]
    },
    {
      "cell_type": "code",
      "metadata": {
        "colab": {
          "base_uri": "https://localhost:8080/",
          "height": 246
        },
        "id": "UD_XZ-52neYO",
        "outputId": "cb300449-fdd4-4c3e-e87e-e907958a6bb6"
      },
      "source": [
        "# Análise de Correlação entre as variáveis\n",
        "## Correlação entre a idade e a Nota Geral\n",
        "plt.scatter(data_new['NU_IDADE'], data_new['NT_GER'], alpha=0.5)\n",
        "plt.xlabel(\"Idade\")\n",
        "plt.ylabel(\"Nota Geral\")\n",
        "plt.title('Idade x Nota Geral')\n",
        "plt.show()"
      ],
      "execution_count": 109,
      "outputs": [
        {
          "output_type": "display_data",
          "data": {
            "image/png": "[encoded data removed]",
            "text/plain": [
              "<Figure size 432x216 with 1 Axes>"
            ]
          },
          "metadata": {}
        }
      ]
    },
    {
      "cell_type": "code",
      "metadata": {
        "colab": {
          "base_uri": "https://localhost:8080/",
          "height": 246
        },
        "id": "0hWBDfkasE2w",
        "outputId": "f39c939c-8d2c-4d84-f972-69ce8ef7841e"
      },
      "source": [
        "## Correlação entre Região e a Nota Geral\n",
        "sns.boxplot(x=data_new['CO_REGIAO_CURSO'], y=data_new['NT_GER'])\n",
        "plt.xlabel('Região')\n",
        "plt.ylabel('Nota Geral')\n",
        "plt.title('Região x Nota Geral')\n",
        "plt.show()"
      ],
      "execution_count": 110,
      "outputs": [
        {
          "output_type": "display_data",
          "data": {
            "image/png": "[encoded data removed]",
            "text/plain": [
              "<Figure size 432x216 with 1 Axes>"
            ]
          },
          "metadata": {}
        }
      ]
    },
    {
      "cell_type": "code",
      "metadata": {
        "colab": {
          "base_uri": "https://localhost:8080/",
          "height": 246
        },
        "id": "kIr9T1Uns4hd",
        "outputId": "cfdb09ec-0eef-4eb5-cf70-5d441e898be4"
      },
      "source": [
        "## Correlação entre Gênero e a Nota Geral\n",
        "sns.boxplot(x=data_new['TP_SEXO'], y=data_new['NT_GER'])\n",
        "plt.xlabel('Gênero')\n",
        "plt.ylabel('Nota Geral')\n",
        "plt.title('Gênero x Nota Geral')\n",
        "plt.show()"
      ],
      "execution_count": 111,
      "outputs": [
        {
          "output_type": "display_data",
          "data": {
            "image/png": "[encoded data removed]",
            "text/plain": [
              "<Figure size 432x216 with 1 Axes>"
            ]
          },
          "metadata": {}
        }
      ]
    },
    {
      "cell_type": "code",
      "metadata": {
        "colab": {
          "base_uri": "https://localhost:8080/",
          "height": 246
        },
        "id": "NGSy5_C_tM4_",
        "outputId": "006c0288-ec06-42f2-af78-f1655fc91403"
      },
      "source": [
        "## Correlação entre Estado Civil e a Nota Geral\n",
        "sns.boxplot(x=data_new['QE_I01'], y=data_new['NT_GER'])\n",
        "plt.xlabel('Estado Civil')\n",
        "plt.ylabel('Nota Geral')\n",
        "plt.title('Estado Civil x Nota Geral')\n",
        "plt.show()"
      ],
      "execution_count": 112,
      "outputs": [
        {
          "output_type": "display_data",
          "data": {
            "image/png": "[encoded data removed]",
            "text/plain": [
              "<Figure size 432x216 with 1 Axes>"
            ]
          },
          "metadata": {}
        }
      ]
    },
    {
      "cell_type": "code",
      "metadata": {
        "colab": {
          "base_uri": "https://localhost:8080/",
          "height": 343
        },
        "id": "jCsNM22ttXfa",
        "outputId": "6745db20-1673-4117-8949-58bc27d7708f"
      },
      "source": [
        "## Correlação entre Etnia e a Nota Geral\n",
        "sns.boxplot(x=data_new['QE_I02'], y=data_new['NT_GER'])\n",
        "plt.xlabel('Etnia')\n",
        "plt.xticks(rotation=90)\n",
        "plt.ylabel('Nota Geral')\n",
        "plt.title('Etnia x Nota Geral')\n",
        "plt.show()"
      ],
      "execution_count": 116,
      "outputs": [
        {
          "output_type": "display_data",
          "data": {
            "image/png": "[encoded data removed]",
            "text/plain": [
              "<Figure size 432x216 with 1 Axes>"
            ]
          },
          "metadata": {}
        }
      ]
    },
    {
      "cell_type": "code",
      "metadata": {
        "colab": {
          "base_uri": "https://localhost:8080/",
          "height": 359
        },
        "id": "jP7mzxlrtoqd",
        "outputId": "f2ce57a6-666e-4648-d4c0-d67ebd45ce65"
      },
      "source": [
        "## Correlação entre Escolaridade do Pai e a Nota Geral\n",
        "sns.boxplot(x=data_new['QE_I04'], y=data_new['NT_GER'])\n",
        "plt.xlabel('Escolaridade do pai')\n",
        "plt.xticks(rotation=90)\n",
        "plt.ylabel('Nota Geral')\n",
        "plt.title('Escolaridade do pai x Nota Geral')\n",
        "plt.show()"
      ],
      "execution_count": 122,
      "outputs": [
        {
          "output_type": "display_data",
          "data": {
            "image/png": "[encoded data removed]",
            "text/plain": [
              "<Figure size 432x216 with 1 Axes>"
            ]
          },
          "metadata": {}
        }
      ]
    },
    {
      "cell_type": "code",
      "metadata": {
        "colab": {
          "base_uri": "https://localhost:8080/",
          "height": 359
        },
        "id": "WId01WFmuIXH",
        "outputId": "5b0c5ecd-ad31-4dab-bbe3-32a6424e91b6"
      },
      "source": [
        "## Correlação entre Escolaridade da Mãe e a Nota Geral\n",
        "sns.boxplot(x=data_new['QE_I05'], y=data_new['NT_GER'])\n",
        "plt.xlabel('Escolaridade da mãe')\n",
        "plt.xticks(rotation=90)\n",
        "plt.ylabel('Nota Geral')\n",
        "plt.title('Escolaridade da mãe x Nota Geral')\n",
        "plt.show()"
      ],
      "execution_count": 123,
      "outputs": [
        {
          "output_type": "display_data",
          "data": {
            "image/png": "[encoded data removed]",
            "text/plain": [
              "<Figure size 432x216 with 1 Axes>"
            ]
          },
          "metadata": {}
        }
      ]
    },
    {
      "cell_type": "code",
      "metadata": {
        "colab": {
          "base_uri": "https://localhost:8080/",
          "height": 402
        },
        "id": "4TK1RXIouqg-",
        "outputId": "f9a6b223-f975-4e36-9e98-1cceac3365bb"
      },
      "source": [
        "## Correlação entre Renda Familiar e a Nota Geral\n",
        "sns.boxplot(x=data_new['QE_I08'], y=data_new['NT_GER'])\n",
        "plt.xlabel('Renda Familiar')\n",
        "plt.xticks(rotation=90)\n",
        "plt.ylabel('Nota Geral')\n",
        "plt.title('Renda Familiar x Nota Geral')\n",
        "plt.show()"
      ],
      "execution_count": 124,
      "outputs": [
        {
          "output_type": "display_data",
          "data": {
            "image/png": "[encoded data removed]",
            "text/plain": [
              "<Figure size 432x216 with 1 Axes>"
            ]
          },
          "metadata": {}
        }
      ]
    },
    {
      "cell_type": "code",
      "metadata": {
        "colab": {
          "base_uri": "https://localhost:8080/",
          "height": 439
        },
        "id": "9Y9Uv8GKvXLx",
        "outputId": "b5d1b33e-b1ca-452d-b888-ac2810a143eb"
      },
      "source": [
        "## Correlação entre Situação de Trabalho e a Nota Geral\n",
        "sns.boxplot(x=data_new['QE_I10'], y=data_new['NT_GER'])\n",
        "plt.xlabel('Situação de Trabalho')\n",
        "plt.xticks(rotation=90)\n",
        "plt.ylabel('Nota Geral')\n",
        "plt.title('Situação de Trabalho x Nota Geral')\n",
        "plt.show()"
      ],
      "execution_count": 125,
      "outputs": [
        {
          "output_type": "display_data",
          "data": {
            "image/png": "[encoded data removed]",
            "text/plain": [
              "<Figure size 432x216 with 1 Axes>"
            ]
          },
          "metadata": {}
        }
      ]
    },
    {
      "cell_type": "code",
      "metadata": {
        "colab": {
          "base_uri": "https://localhost:8080/",
          "height": 425
        },
        "id": "vSRPycXHvzJf",
        "outputId": "fb03825a-635f-48db-d764-186773b0d8b8"
      },
      "source": [
        "## Correlação entre Escola do Ensino Médio e a Nota Geral\n",
        "sns.boxplot(x=data_new['QE_I17'], y=data_new['NT_GER'])\n",
        "plt.xlabel('Escola do Ensino Médio')\n",
        "plt.xticks(rotation=90)\n",
        "plt.ylabel('Nota Geral')\n",
        "plt.title('Escola do Ensino Médio x Nota Geral')\n",
        "plt.show()"
      ],
      "execution_count": 126,
      "outputs": [
        {
          "output_type": "display_data",
          "data": {
            "image/png": "[encoded data removed]",
            "text/plain": [
              "<Figure size 432x216 with 1 Axes>"
            ]
          },
          "metadata": {}
        }
      ]
    },
    {
      "cell_type": "code",
      "metadata": {
        "colab": {
          "base_uri": "https://localhost:8080/",
          "height": 428
        },
        "id": "0CG3Bjsvv_cJ",
        "outputId": "2bdd13c8-e31c-42f7-f958-2c7bc1c244c0"
      },
      "source": [
        "## Correlação entre Horas de Estudo Semanal e a Nota Geral\n",
        "sns.boxplot(x=data_new['QE_I23'], y=data_new['NT_GER'])\n",
        "plt.xlabel('Horas de Estudo Semanal')\n",
        "plt.xticks(rotation=90)\n",
        "plt.ylabel('Nota Geral')\n",
        "plt.title('Horas de Estudo Semanal x Nota Geral')\n",
        "plt.show()"
      ],
      "execution_count": 127,
      "outputs": [
        {
          "output_type": "display_data",
          "data": {
            "image/png": "[encoded data removed]",
            "text/plain": [
              "<Figure size 432x216 with 1 Axes>"
            ]
          },
          "metadata": {}
        }
      ]
    }
  ]
}